{
 "cells": [
  {
   "cell_type": "code",
   "execution_count": 2,
   "id": "231d6160-b7ef-43d9-a6cb-41a915fd384b",
   "metadata": {},
   "outputs": [],
   "source": [
    "import gensim\n",
    "from gensim.models import Word2Vec, KeyedVectors\n",
    "import numpy as np\n",
    "import pandas as pd\n",
    "import os\n",
    "from nltk import sent_tokenize\n",
    "from gensim.utils import simple_preprocess\n",
    "from sklearn.decomposition import PCA\n",
    "import plotly.express as px"
   ]
  },
  {
   "cell_type": "code",
   "execution_count": 3,
   "id": "55801fd1-b3b6-4fdf-b17d-3987362b79f0",
   "metadata": {},
   "outputs": [],
   "source": [
    "story = []\n",
    "for filename in os.listdir('data'):\n",
    "    file_path = os.path.join('data', filename)\n",
    "    with open(file_path, 'r', encoding='utf-8', errors='replace') as f:\n",
    "        corpus = f.read()\n",
    "        raw_sent = sent_tokenize(corpus)\n",
    "        for sent in raw_sent:\n",
    "            story.append(simple_preprocess(sent))\n"
   ]
  },
  {
   "cell_type": "code",
   "execution_count": 4,
   "id": "15927fed-dbcc-4e9b-9d8d-d8ca5cc98af8",
   "metadata": {},
   "outputs": [
    {
     "data": {
      "text/plain": [
       "145020"
      ]
     },
     "execution_count": 4,
     "metadata": {},
     "output_type": "execute_result"
    }
   ],
   "source": [
    "len(story)"
   ]
  },
  {
   "cell_type": "code",
   "execution_count": 5,
   "id": "3e2068de-4f6d-4d1c-820a-b435f2afea59",
   "metadata": {},
   "outputs": [],
   "source": [
    "model = gensim.models.Word2Vec(\n",
    "    window = 10,\n",
    "    min_count =2,\n",
    "    \n",
    ")"
   ]
  },
  {
   "cell_type": "code",
   "execution_count": 6,
   "id": "f549d467-8b9e-44b2-8da4-3532fa76cc07",
   "metadata": {},
   "outputs": [],
   "source": [
    "model.build_vocab(story)"
   ]
  },
  {
   "cell_type": "code",
   "execution_count": 7,
   "id": "05880c6f-acbb-404e-96de-74e74ac73797",
   "metadata": {},
   "outputs": [
    {
     "data": {
      "text/plain": [
       "(6570860, 8628145)"
      ]
     },
     "execution_count": 7,
     "metadata": {},
     "output_type": "execute_result"
    }
   ],
   "source": [
    "model.train(story, total_examples= model.corpus_count, epochs = model.epochs)"
   ]
  },
  {
   "cell_type": "code",
   "execution_count": 8,
   "id": "b345c5e3-2c0f-4f7e-8860-4aa7d9b2d32b",
   "metadata": {},
   "outputs": [
    {
     "data": {
      "text/plain": [
       "[('stormborn', 0.8421695232391357),\n",
       " ('targaryen', 0.7608627080917358),\n",
       " ('princess', 0.7545852661132812),\n",
       " ('unburnt', 0.7275064587593079),\n",
       " ('queen', 0.7180227041244507),\n",
       " ('myrcella', 0.7177507877349854),\n",
       " ('elia', 0.6964242458343506),\n",
       " ('margaery', 0.6850305199623108),\n",
       " ('dorne', 0.6773446798324585),\n",
       " ('martell', 0.6683799624443054)]"
      ]
     },
     "execution_count": 8,
     "metadata": {},
     "output_type": "execute_result"
    }
   ],
   "source": [
    "model.wv.most_similar('daenerys')"
   ]
  },
  {
   "cell_type": "code",
   "execution_count": 9,
   "id": "8e7f6f97-f157-4e67-8de6-a5ac24a767cf",
   "metadata": {},
   "outputs": [
    {
     "data": {
      "text/plain": [
       "'jon'"
      ]
     },
     "execution_count": 9,
     "metadata": {},
     "output_type": "execute_result"
    }
   ],
   "source": [
    "model.wv.doesnt_match(['jon', 'rikon', 'robb', 'arya', 'sansa', 'bran'])"
   ]
  },
  {
   "cell_type": "code",
   "execution_count": 10,
   "id": "06dd5488-1c5c-4218-a506-b6afad49b8a2",
   "metadata": {},
   "outputs": [
    {
     "data": {
      "text/plain": [
       "'bronn'"
      ]
     },
     "execution_count": 10,
     "metadata": {},
     "output_type": "execute_result"
    }
   ],
   "source": [
    "model.wv.doesnt_match(['cersi', 'jaime', 'bronn', 'tyrion'])"
   ]
  },
  {
   "cell_type": "code",
   "execution_count": 11,
   "id": "b6bdb06e-4417-4b61-810c-68fbc63864f4",
   "metadata": {},
   "outputs": [
    {
     "data": {
      "text/plain": [
       "array([ 1.7821164e+00,  1.4644153e+00,  1.5677588e+00,  2.0458815e+00,\n",
       "       -2.5858350e+00,  7.4167323e-01,  7.7090645e-01,  2.9579082e-01,\n",
       "       -2.5191467e+00, -1.4541456e+00, -6.8955427e-01, -5.1413733e-01,\n",
       "       -1.6042132e+00,  3.3266952e+00, -3.5379035e+00, -1.3351809e+00,\n",
       "       -2.1522398e+00,  2.1602900e+00, -6.8097287e-01, -1.0119178e-01,\n",
       "       -2.0269135e-03,  2.4828408e+00,  1.9622446e+00, -2.1499498e+00,\n",
       "       -2.7329674e+00,  3.0356520e-01, -2.5584035e+00, -8.3221108e-01,\n",
       "       -1.3036914e-01,  2.6771367e+00, -2.4211566e+00,  1.1501516e+00,\n",
       "        9.0823430e-01,  8.1909442e-01,  1.1681321e+00, -2.1508844e+00,\n",
       "       -4.3534780e+00, -1.2290065e+00,  2.4437513e+00, -1.7679212e+00,\n",
       "        1.8103527e-01,  3.0383747e+00,  2.5277705e+00, -1.0984271e+00,\n",
       "       -1.0012864e+00, -1.2618830e+00,  4.7769007e-01, -1.6676835e+00,\n",
       "        3.7382331e+00, -2.9800334e+00, -2.5975816e+00, -9.4789904e-01,\n",
       "       -6.2458938e-01, -3.8747714e+00,  4.2885189e+00, -1.1942421e+00,\n",
       "       -1.0200338e-01,  5.3864741e-01,  1.9304172e+00, -2.4654968e-01,\n",
       "        1.7516397e+00,  1.7844709e+00,  6.4185923e-01, -7.4472234e-02,\n",
       "        7.9810596e-01,  8.6921632e-02, -1.7769535e+00, -2.0650017e+00,\n",
       "       -7.1865988e-01, -3.0084019e+00,  1.0571942e+00, -4.7748724e-01,\n",
       "        3.5613518e+00, -7.2198910e-01,  1.3683072e+00, -5.7129419e-01,\n",
       "        5.3122377e-01, -1.4309306e+00,  1.7936891e+00,  7.8081286e-01,\n",
       "        5.3547807e-02,  2.3316815e+00, -1.6985857e+00, -4.3273100e-01,\n",
       "       -1.5629463e+00, -2.3871415e+00,  9.4606280e-01,  3.1721601e+00,\n",
       "        1.8408859e+00,  7.3295361e-01, -8.4031624e-01,  5.6727922e-01,\n",
       "       -7.9777974e-01, -1.3410374e+00,  1.2978914e+00, -1.1262943e+00,\n",
       "       -1.5199989e+00,  2.1561299e-01,  3.0026169e-02,  1.0700857e-02],\n",
       "      dtype=float32)"
      ]
     },
     "execution_count": 11,
     "metadata": {},
     "output_type": "execute_result"
    }
   ],
   "source": [
    "model.wv['king']"
   ]
  },
  {
   "cell_type": "code",
   "execution_count": 12,
   "id": "a44c773b-5ae6-4c09-8ea2-b5063382dabd",
   "metadata": {},
   "outputs": [
    {
     "data": {
      "text/plain": [
       "0.8274951"
      ]
     },
     "execution_count": 12,
     "metadata": {},
     "output_type": "execute_result"
    }
   ],
   "source": [
    "model.wv.similarity('arya', 'sansa')"
   ]
  },
  {
   "cell_type": "code",
   "execution_count": 13,
   "id": "7cec2c4e-ef7b-4ae1-b03f-55a41bea22ba",
   "metadata": {},
   "outputs": [
    {
     "data": {
      "text/plain": [
       "0.21869513"
      ]
     },
     "execution_count": 13,
     "metadata": {},
     "output_type": "execute_result"
    }
   ],
   "source": [
    "model.wv.similarity('tywin', 'sansa')"
   ]
  },
  {
   "cell_type": "code",
   "execution_count": 14,
   "id": "ced1d067-785a-42a8-a3b6-ebabb1ff6b3a",
   "metadata": {},
   "outputs": [
    {
     "data": {
      "text/plain": [
       "array([[ 0.01029525, -0.09266075,  0.02818765, ...,  0.01557963,\n",
       "        -0.13049269,  0.07486587],\n",
       "       [-0.20410103, -0.05639393,  0.00227876, ...,  0.03515319,\n",
       "        -0.09190443,  0.25875264],\n",
       "       [ 0.16004951, -0.08909918, -0.14313614, ..., -0.01888517,\n",
       "         0.1496589 , -0.11547495],\n",
       "       ...,\n",
       "       [-0.10652535,  0.0888118 , -0.02029969, ..., -0.08736303,\n",
       "        -0.03389684,  0.03487512],\n",
       "       [ 0.05030248,  0.04717222,  0.00201907, ..., -0.00288412,\n",
       "        -0.00290709, -0.06847835],\n",
       "       [ 0.02707318,  0.09469596, -0.01177805, ..., -0.01780103,\n",
       "        -0.05049935, -0.01768755]], dtype=float32)"
      ]
     },
     "execution_count": 14,
     "metadata": {},
     "output_type": "execute_result"
    }
   ],
   "source": [
    "model.wv.get_normed_vectors()"
   ]
  },
  {
   "cell_type": "code",
   "execution_count": 15,
   "id": "2e8a6706-2cf8-47bf-b031-fcd67265d29a",
   "metadata": {},
   "outputs": [
    {
     "data": {
      "text/plain": [
       "(17453, 100)"
      ]
     },
     "execution_count": 15,
     "metadata": {},
     "output_type": "execute_result"
    }
   ],
   "source": [
    "model.wv.get_normed_vectors().shape"
   ]
  },
  {
   "cell_type": "code",
   "execution_count": 16,
   "id": "c428e32b-ae33-4364-89a9-77099f6fa782",
   "metadata": {},
   "outputs": [],
   "source": [
    "y = model.wv.index_to_key"
   ]
  },
  {
   "cell_type": "code",
   "execution_count": 17,
   "id": "f2f33b47-ea9c-4903-bc83-cb1b0401e975",
   "metadata": {},
   "outputs": [
    {
     "data": {
      "text/plain": [
       "['the',\n",
       " 'and',\n",
       " 'to',\n",
       " 'of',\n",
       " 'he',\n",
       " 'his',\n",
       " 'was',\n",
       " 'you',\n",
       " 'her',\n",
       " 'in',\n",
       " 'it',\n",
       " 'had',\n",
       " 'that',\n",
       " 'she',\n",
       " 'as',\n",
       " 'with',\n",
       " 'him',\n",
       " 'not',\n",
       " 'but',\n",
       " 'for',\n",
       " 'they',\n",
       " 'is',\n",
       " 'at',\n",
       " 'on',\n",
       " 'said',\n",
       " 'my',\n",
       " 'have',\n",
       " 'be',\n",
       " 'lord',\n",
       " 'them',\n",
       " 'no',\n",
       " 'from',\n",
       " 'would',\n",
       " 'were',\n",
       " 'me',\n",
       " 'your',\n",
       " 'one',\n",
       " 'all',\n",
       " 'when',\n",
       " 'will',\n",
       " 'ser',\n",
       " 'if',\n",
       " 'so',\n",
       " 'their',\n",
       " 'we',\n",
       " 'could',\n",
       " 'are',\n",
       " 'man',\n",
       " 'there',\n",
       " 'this',\n",
       " 'up',\n",
       " 'been',\n",
       " 'what',\n",
       " 'did',\n",
       " 'by',\n",
       " 'king',\n",
       " 'do',\n",
       " 'men',\n",
       " 'back',\n",
       " 'out',\n",
       " 'more',\n",
       " 'or',\n",
       " 'who',\n",
       " 'down',\n",
       " 'well',\n",
       " 'than',\n",
       " 'only',\n",
       " 'like',\n",
       " 'jon',\n",
       " 'some',\n",
       " 'father',\n",
       " 'old',\n",
       " 'hand',\n",
       " 'even',\n",
       " 'too',\n",
       " 'before',\n",
       " 'tyrion',\n",
       " 'never',\n",
       " 'an',\n",
       " 'off',\n",
       " 'know',\n",
       " 'see',\n",
       " 'into',\n",
       " 'made',\n",
       " 'now',\n",
       " 'eyes',\n",
       " 'black',\n",
       " 'told',\n",
       " 'lady',\n",
       " 'thought',\n",
       " 'time',\n",
       " 'then',\n",
       " 'how',\n",
       " 'long',\n",
       " 'has',\n",
       " 'can',\n",
       " 'might',\n",
       " 'us',\n",
       " 'come',\n",
       " 'where',\n",
       " 'here',\n",
       " 'through',\n",
       " 'still',\n",
       " 'face',\n",
       " 'head',\n",
       " 'red',\n",
       " 'll',\n",
       " 'way',\n",
       " 'boy',\n",
       " 'page',\n",
       " 'must',\n",
       " 'once',\n",
       " 'queen',\n",
       " 'good',\n",
       " 'two',\n",
       " 'brother',\n",
       " 'night',\n",
       " 'over',\n",
       " 'little',\n",
       " 'about',\n",
       " 'took',\n",
       " 'other',\n",
       " 'came',\n",
       " 'though',\n",
       " 'again',\n",
       " 'say',\n",
       " 'three',\n",
       " 'should',\n",
       " 'away',\n",
       " 'dead',\n",
       " 'son',\n",
       " 'own',\n",
       " 'blood',\n",
       " 'am',\n",
       " 'take',\n",
       " 'go',\n",
       " 'half',\n",
       " 'make',\n",
       " 'arya',\n",
       " 'saw',\n",
       " 'day',\n",
       " 'white',\n",
       " 'jaime',\n",
       " 'first',\n",
       " 'himself',\n",
       " 'our',\n",
       " 'look',\n",
       " 'want',\n",
       " 'after',\n",
       " 'much',\n",
       " 'enough',\n",
       " 'sword',\n",
       " 'tell',\n",
       " 'girl',\n",
       " 'bran',\n",
       " 'great',\n",
       " 'its',\n",
       " 'looked',\n",
       " 'left',\n",
       " 'knew',\n",
       " 'asked',\n",
       " 'gave',\n",
       " 'maester',\n",
       " 'called',\n",
       " 'wall',\n",
       " 'every',\n",
       " 'heard',\n",
       " 'sansa',\n",
       " 'let',\n",
       " 'yet',\n",
       " 'went',\n",
       " 'turned',\n",
       " 'dany',\n",
       " 'why',\n",
       " 'need',\n",
       " 'behind',\n",
       " 'around',\n",
       " 'just',\n",
       " 'woman',\n",
       " 'another',\n",
       " 'snow',\n",
       " 'beneath',\n",
       " 'across',\n",
       " 'knight',\n",
       " 'keep',\n",
       " 'grace',\n",
       " 'found',\n",
       " 'gold',\n",
       " 'any',\n",
       " 'last',\n",
       " 'cersei',\n",
       " 'castle',\n",
       " 'those',\n",
       " 'stark',\n",
       " 'gods',\n",
       " 'think',\n",
       " 'hair',\n",
       " 'many',\n",
       " 'feet',\n",
       " 'against',\n",
       " 'hands',\n",
       " 'stannis',\n",
       " 'mother',\n",
       " 'catelyn',\n",
       " 'robert',\n",
       " 'seemed',\n",
       " 'prince',\n",
       " 'may',\n",
       " 'ever',\n",
       " 'robb',\n",
       " 'done',\n",
       " 'don',\n",
       " 'find',\n",
       " 'lannister',\n",
       " 're',\n",
       " 'hear',\n",
       " 'grey',\n",
       " 'name',\n",
       " 'horse',\n",
       " 'high',\n",
       " 'put',\n",
       " 'wine',\n",
       " 'stone',\n",
       " 'hard',\n",
       " 'water',\n",
       " 'upon',\n",
       " 'fire',\n",
       " 'iron',\n",
       " 'until',\n",
       " 'these',\n",
       " 'voice',\n",
       " 'gone',\n",
       " 'give',\n",
       " 'sam',\n",
       " 'seen',\n",
       " 'better',\n",
       " 'shall',\n",
       " 'ned',\n",
       " 'always',\n",
       " 'years',\n",
       " 'between',\n",
       " 'dark',\n",
       " 'place',\n",
       " 'small',\n",
       " 'cold',\n",
       " 'winterfell',\n",
       " 'most',\n",
       " 'hundred',\n",
       " 'stood',\n",
       " 'end',\n",
       " 'sister',\n",
       " 'words',\n",
       " 'sea',\n",
       " 'right',\n",
       " 'nothing',\n",
       " 'walls',\n",
       " 'fingers',\n",
       " 'same',\n",
       " 'cloak',\n",
       " 'house',\n",
       " 'young',\n",
       " 'does',\n",
       " 'beside',\n",
       " 'get',\n",
       " 'mouth',\n",
       " 'seven',\n",
       " 'watch',\n",
       " 'door',\n",
       " 'joffrey',\n",
       " 'green',\n",
       " 'big',\n",
       " 'under',\n",
       " 'few',\n",
       " 'sent',\n",
       " 'perhaps',\n",
       " 'almost',\n",
       " 'such',\n",
       " 'wanted',\n",
       " 'true',\n",
       " 'daughter',\n",
       " 'leave',\n",
       " 'while',\n",
       " 'wind',\n",
       " 'city',\n",
       " 'light',\n",
       " 'arms',\n",
       " 'children',\n",
       " 'herself',\n",
       " 'sweet',\n",
       " 'others',\n",
       " 'lost',\n",
       " 'theon',\n",
       " 'each',\n",
       " 'felt',\n",
       " 'side',\n",
       " 'yes',\n",
       " 'brothers',\n",
       " 'best',\n",
       " 'very',\n",
       " 'die',\n",
       " 'brought',\n",
       " 'soon',\n",
       " 'far',\n",
       " 'died',\n",
       " 'north',\n",
       " 'child',\n",
       " 'fear',\n",
       " 'along',\n",
       " 'word',\n",
       " 'brienne',\n",
       " 'both',\n",
       " 'taken',\n",
       " 'battle',\n",
       " 'help',\n",
       " 'new',\n",
       " 'tywin',\n",
       " 'lords',\n",
       " 'davos',\n",
       " 'something',\n",
       " 've',\n",
       " 'mean',\n",
       " 'wife',\n",
       " 'rest',\n",
       " 'hall',\n",
       " 'kill',\n",
       " 'strong',\n",
       " 'steel',\n",
       " 'began',\n",
       " 'won',\n",
       " 'sound',\n",
       " 'dragon',\n",
       " 'past',\n",
       " 'life',\n",
       " 'tower',\n",
       " 'killed',\n",
       " 'arm',\n",
       " 'sons',\n",
       " 'tried',\n",
       " 'free',\n",
       " 'thing',\n",
       " 'days',\n",
       " 'bear',\n",
       " 'bloody',\n",
       " 'heart',\n",
       " 'pale',\n",
       " 'love',\n",
       " 'sat',\n",
       " 'moment',\n",
       " 'bring',\n",
       " 'bed',\n",
       " 'close',\n",
       " 'knights',\n",
       " 'cut',\n",
       " 'wolf',\n",
       " 'horses',\n",
       " 'smile',\n",
       " 'death',\n",
       " 'inside',\n",
       " 'four',\n",
       " 'brown',\n",
       " 'hot',\n",
       " 'dragons',\n",
       " 'silver',\n",
       " 'part',\n",
       " 'bastard',\n",
       " 'open',\n",
       " 'nor',\n",
       " 'thousand',\n",
       " 'landing',\n",
       " 'uncle',\n",
       " 'above',\n",
       " 'going',\n",
       " 'blue',\n",
       " 'air',\n",
       " 'captain',\n",
       " 'please',\n",
       " 'laughed',\n",
       " 'river',\n",
       " 'sun',\n",
       " 'rose',\n",
       " 'fell',\n",
       " 'war',\n",
       " 'golden',\n",
       " 'sleep',\n",
       " 'swords',\n",
       " 'without',\n",
       " 'speak',\n",
       " 'renly',\n",
       " 'full',\n",
       " 'certain',\n",
       " 'fool',\n",
       " 'beyond',\n",
       " 'feel',\n",
       " 'send',\n",
       " 'got',\n",
       " 'tongue',\n",
       " 'fight',\n",
       " 'set',\n",
       " 'rode',\n",
       " 'thick',\n",
       " 'world',\n",
       " 'throat',\n",
       " 'legs',\n",
       " 'deep',\n",
       " 'call',\n",
       " 'honor',\n",
       " 'trees',\n",
       " 'rock',\n",
       " 'tall',\n",
       " 'table',\n",
       " 'pulled',\n",
       " 'broken',\n",
       " 'women',\n",
       " 'mormont',\n",
       " 'steps',\n",
       " 'things',\n",
       " 'next',\n",
       " 'hodor',\n",
       " 'heavy',\n",
       " 'burned',\n",
       " 'oh',\n",
       " 'toward',\n",
       " 'together',\n",
       " 'given',\n",
       " 'skin',\n",
       " 'since',\n",
       " 'dwarf',\n",
       " 'moved',\n",
       " 'smiled',\n",
       " 'alone',\n",
       " 'storm',\n",
       " 'raised',\n",
       " 'ask',\n",
       " 'ride',\n",
       " 'eye',\n",
       " 'hope',\n",
       " 'soft',\n",
       " 'reached',\n",
       " 'second',\n",
       " 'frey',\n",
       " 'remember',\n",
       " 'someone',\n",
       " 'remembered',\n",
       " 'coming',\n",
       " 'cannot',\n",
       " 'hold',\n",
       " 'meant',\n",
       " 'morning',\n",
       " 'ten',\n",
       " 'else',\n",
       " 'teeth',\n",
       " 'throne',\n",
       " 'command',\n",
       " 'which',\n",
       " 'fat',\n",
       " 'truth',\n",
       " 'commander',\n",
       " 'walder',\n",
       " 'ground',\n",
       " 'doubt',\n",
       " 'jorah',\n",
       " 'outside',\n",
       " 'cup',\n",
       " 'known',\n",
       " 'wore',\n",
       " 'ran',\n",
       " 'gate',\n",
       " 'held',\n",
       " 'room',\n",
       " 'closed',\n",
       " 'home',\n",
       " 'matter',\n",
       " 'south',\n",
       " 'wood',\n",
       " 'sky',\n",
       " 'wed',\n",
       " 'dozen',\n",
       " 'people',\n",
       " 'neck',\n",
       " 'food',\n",
       " 'riverrun',\n",
       " 'instead',\n",
       " 'near',\n",
       " 'talk',\n",
       " 'turn',\n",
       " 'none',\n",
       " 'ships',\n",
       " 'below',\n",
       " 'tyrell',\n",
       " 'moon',\n",
       " 'bolton',\n",
       " 'shadow',\n",
       " 'summer',\n",
       " 'lips',\n",
       " 'watched',\n",
       " 'leather',\n",
       " 'times',\n",
       " 'varys',\n",
       " 'shoulder',\n",
       " 'septon',\n",
       " 'warm',\n",
       " 'believe',\n",
       " 'caught',\n",
       " 'least',\n",
       " 'guards',\n",
       " 'answer',\n",
       " 'god',\n",
       " 'blade',\n",
       " 'ice',\n",
       " 'wondered',\n",
       " 'shield',\n",
       " 'mine',\n",
       " 'barristan',\n",
       " 'opened',\n",
       " 'armor',\n",
       " 'safe',\n",
       " 'six',\n",
       " 'kept',\n",
       " 'return',\n",
       " 'wish',\n",
       " 'tommen',\n",
       " 'used',\n",
       " 'smell',\n",
       " 'less',\n",
       " 'foot',\n",
       " 'being',\n",
       " 'squire',\n",
       " 'floor',\n",
       " 'eddard',\n",
       " 'empty',\n",
       " 'followed',\n",
       " 'run',\n",
       " 'serve',\n",
       " 'friends',\n",
       " 'boys',\n",
       " 'beard',\n",
       " 'cloaks',\n",
       " 'wedding',\n",
       " 'baratheon',\n",
       " 'wrong',\n",
       " 'eat',\n",
       " 'ghost',\n",
       " 'daenerys',\n",
       " 'flesh',\n",
       " 'sight',\n",
       " 'five',\n",
       " 'hound',\n",
       " 'ship',\n",
       " 'strength',\n",
       " 'returned',\n",
       " 'bones',\n",
       " 'nose',\n",
       " 'crown',\n",
       " 'yellow',\n",
       " 'chest',\n",
       " 'covered',\n",
       " 'commanded',\n",
       " 'says',\n",
       " 'petyr',\n",
       " 'sometimes',\n",
       " 'aemon',\n",
       " 'filled',\n",
       " 'led',\n",
       " 'friend',\n",
       " 'yours',\n",
       " 'common',\n",
       " 'aye',\n",
       " 'show',\n",
       " 'spoke',\n",
       " 'fighting',\n",
       " 'flames',\n",
       " 'huge',\n",
       " 'aside',\n",
       " 'asha',\n",
       " 'lysa',\n",
       " 'crow',\n",
       " 'belly',\n",
       " 'master',\n",
       " 'seem',\n",
       " 'breath',\n",
       " 'yard',\n",
       " 'gates',\n",
       " 'waiting',\n",
       " 'within',\n",
       " 'looking',\n",
       " 'wooden',\n",
       " 'wet',\n",
       " 'realm',\n",
       " 'thin',\n",
       " 'work',\n",
       " 'promised',\n",
       " 'bad',\n",
       " 'use',\n",
       " 'later',\n",
       " 'husband',\n",
       " 'tree',\n",
       " 'grew',\n",
       " 'onto',\n",
       " 'loved',\n",
       " 'wildlings',\n",
       " 'girls',\n",
       " 'greyjoy',\n",
       " 'afraid',\n",
       " 'shoulders',\n",
       " 'rain',\n",
       " 'shouted',\n",
       " 'walked',\n",
       " 'maid',\n",
       " 'remained',\n",
       " 'mance',\n",
       " 'guard',\n",
       " 'late',\n",
       " 'littlefinger',\n",
       " 'meereen',\n",
       " 'fall',\n",
       " 'liked',\n",
       " 'margaery',\n",
       " 'year',\n",
       " 'dog',\n",
       " 'hurt',\n",
       " 'passed',\n",
       " 'taste',\n",
       " 'balon',\n",
       " 'dothraki',\n",
       " 'drew',\n",
       " 'lay',\n",
       " 'spear',\n",
       " 'realized',\n",
       " 'song',\n",
       " 'pushed',\n",
       " 'sure',\n",
       " 'named',\n",
       " 'whispered',\n",
       " 'reach',\n",
       " 'brave',\n",
       " 'stand',\n",
       " 'finally',\n",
       " 'different',\n",
       " 'wolves',\n",
       " 'suddenly',\n",
       " 'poor',\n",
       " 'stay',\n",
       " 'drogo',\n",
       " 'kingsguard',\n",
       " 'arryn',\n",
       " 'kingdoms',\n",
       " 'stop',\n",
       " 'edmure',\n",
       " 'broke',\n",
       " 'ears',\n",
       " 'princess',\n",
       " 'burning',\n",
       " 'faces',\n",
       " 'lannisters',\n",
       " 'dream',\n",
       " 'axe',\n",
       " 'direwolf',\n",
       " 'tears',\n",
       " 'west',\n",
       " 'heir',\n",
       " 'clegane',\n",
       " 'darkness',\n",
       " 'either',\n",
       " 'drink',\n",
       " 'raven',\n",
       " 'pointed',\n",
       " 'hill',\n",
       " 'try',\n",
       " 'forward',\n",
       " 'sworn',\n",
       " 'pain',\n",
       " 'lie',\n",
       " 'khal',\n",
       " 'truly',\n",
       " 'dagger',\n",
       " 'kings',\n",
       " 'grown',\n",
       " 'seat',\n",
       " 'born',\n",
       " 'road',\n",
       " 'care',\n",
       " 'harrenhal',\n",
       " 'bronn',\n",
       " 'helm',\n",
       " 'round',\n",
       " 'feast',\n",
       " 'understand',\n",
       " 'pycelle',\n",
       " 'meat',\n",
       " 'quick',\n",
       " 'amongst',\n",
       " 'longer',\n",
       " 'lifted',\n",
       " 'whilst',\n",
       " 'reminded',\n",
       " 'maybe',\n",
       " 'short',\n",
       " 'mountain',\n",
       " 'step',\n",
       " 'rodrik',\n",
       " 'ones',\n",
       " 'pretty',\n",
       " 'melisandre',\n",
       " 'third',\n",
       " 'aegon',\n",
       " 'bit',\n",
       " 'lands',\n",
       " 'stopped',\n",
       " 'worse',\n",
       " 'sit',\n",
       " 'victarion',\n",
       " 'sharp',\n",
       " 'save',\n",
       " 'knows',\n",
       " 'smoke',\n",
       " 'live',\n",
       " 'whose',\n",
       " 'leg',\n",
       " 'horn',\n",
       " 'window',\n",
       " 'pray',\n",
       " 'younger',\n",
       " 'westeros',\n",
       " 'silk',\n",
       " 'heads',\n",
       " 'twenty',\n",
       " 'didn',\n",
       " 'ago',\n",
       " 'septa',\n",
       " 'pie',\n",
       " 'peace',\n",
       " 'slaves',\n",
       " 'bread',\n",
       " 'laugh',\n",
       " 'hizdahr',\n",
       " 'low',\n",
       " 'wants',\n",
       " 'mind',\n",
       " 'blind',\n",
       " 'east',\n",
       " 'mad',\n",
       " 'reek',\n",
       " 'towers',\n",
       " 'bright',\n",
       " 'sooner',\n",
       " 'myself',\n",
       " 'making',\n",
       " 'older',\n",
       " 'slain',\n",
       " 'coin',\n",
       " 'camp',\n",
       " 'wait',\n",
       " 'narrow',\n",
       " 'served',\n",
       " 'salt',\n",
       " 'walk',\n",
       " 'drowned',\n",
       " 'point',\n",
       " 'glanced',\n",
       " 'luwin',\n",
       " 'cousin',\n",
       " 'knife',\n",
       " 'cheeks',\n",
       " 'stepped',\n",
       " 'touched',\n",
       " 'often',\n",
       " 'shook',\n",
       " 'targaryen',\n",
       " 'quiet',\n",
       " 'sort',\n",
       " 'riding',\n",
       " 'naked',\n",
       " 'twisted',\n",
       " 'loras',\n",
       " 'choice',\n",
       " 'during',\n",
       " 'silence',\n",
       " 'forgotten',\n",
       " 'kevan',\n",
       " 'lion',\n",
       " 'fish',\n",
       " 'read',\n",
       " 'hung',\n",
       " 'ramsay',\n",
       " 'gift',\n",
       " 'fallen',\n",
       " 'running',\n",
       " 'replied',\n",
       " 'knees',\n",
       " 'large',\n",
       " 'fought',\n",
       " 'silent',\n",
       " 'company',\n",
       " 'ahead',\n",
       " 'cat',\n",
       " 'needs',\n",
       " 'sept',\n",
       " 'rhaegar',\n",
       " 'dawn',\n",
       " 'beautiful',\n",
       " 'dogs',\n",
       " 'casterly',\n",
       " 'knee',\n",
       " 'pass',\n",
       " 'dorne',\n",
       " 'tully',\n",
       " 'themselves',\n",
       " 'mud',\n",
       " 'gregor',\n",
       " 'stupid',\n",
       " 'court',\n",
       " 'singer',\n",
       " 'body',\n",
       " 'age',\n",
       " 'trying',\n",
       " 'meera',\n",
       " 'top',\n",
       " 'swear',\n",
       " 'kind',\n",
       " 'gendry',\n",
       " 'offered',\n",
       " 'closer',\n",
       " 'leaves',\n",
       " 'whole',\n",
       " 'clothes',\n",
       " 'anything',\n",
       " 'kiss',\n",
       " 'whatever',\n",
       " 'agreed',\n",
       " 'threw',\n",
       " 'wonder',\n",
       " 'pay',\n",
       " 'answered',\n",
       " 'climbed',\n",
       " 'saying',\n",
       " 'saddle',\n",
       " 'wide',\n",
       " 'stars',\n",
       " 'comes',\n",
       " 'stones',\n",
       " 'trust',\n",
       " 'host',\n",
       " 'chain',\n",
       " 'fair',\n",
       " 'yourself',\n",
       " 'pleased',\n",
       " 'trident',\n",
       " 'eight',\n",
       " 'dying',\n",
       " 'yunkai',\n",
       " 'insisted',\n",
       " 'hour',\n",
       " 'dry',\n",
       " 'ear',\n",
       " 'spears',\n",
       " 'fast',\n",
       " 'ought',\n",
       " 'doors',\n",
       " 'service',\n",
       " 'carried',\n",
       " 'council',\n",
       " 'woods',\n",
       " 'mail',\n",
       " 'fist',\n",
       " 'wildling',\n",
       " 'milk',\n",
       " 'thank',\n",
       " 'needed',\n",
       " 'join',\n",
       " 'fine',\n",
       " 'crossed',\n",
       " 'wasn',\n",
       " 'gilly',\n",
       " 'quentyn',\n",
       " 'finger',\n",
       " 'shadows',\n",
       " 'doing',\n",
       " 'tent',\n",
       " 'land',\n",
       " 'helped',\n",
       " 'bird',\n",
       " 'boots',\n",
       " 'win',\n",
       " 'names',\n",
       " 'somehow',\n",
       " 'folk',\n",
       " 'imp',\n",
       " 'crows',\n",
       " 'banners',\n",
       " 'letter',\n",
       " 'kissed',\n",
       " 'winter',\n",
       " 'angry',\n",
       " 'screamed',\n",
       " 'pink',\n",
       " 'frightened',\n",
       " 'learn',\n",
       " 'torch',\n",
       " 'alive',\n",
       " 'eunuch',\n",
       " 'chair',\n",
       " 'watching',\n",
       " 'daughters',\n",
       " 'fires',\n",
       " 'tarly',\n",
       " 'harm',\n",
       " 'dragonstone',\n",
       " 'learned',\n",
       " 'nine',\n",
       " 'standing',\n",
       " 'neither',\n",
       " 'serving',\n",
       " 'easy',\n",
       " 'wings',\n",
       " 'drunk',\n",
       " 'question',\n",
       " 'sail',\n",
       " 'sisters',\n",
       " 'myrcella',\n",
       " 'priest',\n",
       " 'nodded',\n",
       " 'bone',\n",
       " 'warned',\n",
       " 'giant',\n",
       " 'forth',\n",
       " 'harbor',\n",
       " 'field',\n",
       " 'slipped',\n",
       " 'slow',\n",
       " 'slid',\n",
       " 'slowly',\n",
       " 'falling',\n",
       " 'bronze',\n",
       " 'dreams',\n",
       " 'atop',\n",
       " 'promise',\n",
       " 'line',\n",
       " 'slave',\n",
       " 'move',\n",
       " 'rise',\n",
       " 'whore',\n",
       " 'illyrio',\n",
       " 'makes',\n",
       " 'pyke',\n",
       " 'laughter',\n",
       " 'flowers',\n",
       " 'earth',\n",
       " 'faced',\n",
       " 'bay',\n",
       " 'loose',\n",
       " 'declared',\n",
       " 'grass',\n",
       " 'power',\n",
       " 'front',\n",
       " 'twice',\n",
       " 'viserys',\n",
       " 'lived',\n",
       " 'happened',\n",
       " 'play',\n",
       " 'cell',\n",
       " 'because',\n",
       " 'break',\n",
       " 'oldtown',\n",
       " 'chains',\n",
       " 'dance',\n",
       " 'clean',\n",
       " 'aerys',\n",
       " 'surely',\n",
       " 'eyrie',\n",
       " 'claim',\n",
       " 'jeyne',\n",
       " 'unless',\n",
       " 'cried',\n",
       " 'fresh',\n",
       " 'tormund',\n",
       " 'quite',\n",
       " 'pair',\n",
       " 'laid',\n",
       " 'craster',\n",
       " 'game',\n",
       " 'morrow',\n",
       " 'shouting',\n",
       " 'met',\n",
       " 'sad',\n",
       " 'already',\n",
       " 'softly',\n",
       " 'touch',\n",
       " 'rule',\n",
       " 'count',\n",
       " 'steward',\n",
       " 'started',\n",
       " 'sense',\n",
       " 'mounted',\n",
       " 'woke',\n",
       " 'afterward',\n",
       " 'jojen',\n",
       " 'highgarden',\n",
       " 'captive',\n",
       " 'waters',\n",
       " 'sudden',\n",
       " ...]"
      ]
     },
     "execution_count": 17,
     "metadata": {},
     "output_type": "execute_result"
    }
   ],
   "source": [
    "y"
   ]
  },
  {
   "cell_type": "code",
   "execution_count": 18,
   "id": "deaafc2f-9955-472f-a53b-b01bd8a4d9a5",
   "metadata": {},
   "outputs": [],
   "source": [
    "pca = PCA(n_components =3)"
   ]
  },
  {
   "cell_type": "code",
   "execution_count": 19,
   "id": "f7ffc21f-0827-4ac3-b4db-4b5b55b180f1",
   "metadata": {},
   "outputs": [],
   "source": [
    "X = pca.fit_transform(model.wv.get_normed_vectors())"
   ]
  },
  {
   "cell_type": "code",
   "execution_count": 20,
   "id": "e27eafb7-051c-4f5a-b5e0-080688e89ce3",
   "metadata": {},
   "outputs": [
    {
     "data": {
      "text/plain": [
       "array([[-0.13387172, -0.5815795 ,  0.04496148],\n",
       "       [-0.16438915, -0.33217555, -0.05691348],\n",
       "       [ 0.2983716 , -0.5628532 , -0.22535056],\n",
       "       [-0.02564286, -0.3523813 ,  0.08569622],\n",
       "       [ 0.1124983 , -0.5594691 , -0.28072166]], dtype=float32)"
      ]
     },
     "execution_count": 20,
     "metadata": {},
     "output_type": "execute_result"
    }
   ],
   "source": [
    "X[:5]"
   ]
  },
  {
   "cell_type": "code",
   "execution_count": 21,
   "id": "fe5ca7d9-2ea7-4f37-868c-75207280173f",
   "metadata": {},
   "outputs": [
    {
     "data": {
      "text/plain": [
       "(17453, 3)"
      ]
     },
     "execution_count": 21,
     "metadata": {},
     "output_type": "execute_result"
    }
   ],
   "source": [
    "X.shape"
   ]
  },
  {
   "cell_type": "code",
   "execution_count": 22,
   "id": "5dedfbab-0f7f-4112-8d70-68e7626602e9",
   "metadata": {},
   "outputs": [
    {
     "data": {
      "application/vnd.plotly.v1+json": {
       "config": {
        "plotlyServerURL": "https://plot.ly"
       },
       "data": [
        {
         "hovertemplate": "color=the<br>0=%{x}<br>1=%{y}<br>2=%{z}<extra></extra>",
         "legendgroup": "the",
         "marker": {
          "color": "#636efa",
          "symbol": "circle"
         },
         "mode": "markers",
         "name": "the",
         "scene": "scene",
         "showlegend": true,
         "type": "scatter3d",
         "x": [
          -0.13387171924114227
         ],
         "y": [
          -0.5815795063972473
         ],
         "z": [
          0.04496148228645325
         ]
        },
        {
         "hovertemplate": "color=and<br>0=%{x}<br>1=%{y}<br>2=%{z}<extra></extra>",
         "legendgroup": "and",
         "marker": {
          "color": "#EF553B",
          "symbol": "circle"
         },
         "mode": "markers",
         "name": "and",
         "scene": "scene",
         "showlegend": true,
         "type": "scatter3d",
         "x": [
          -0.16438914835453033
         ],
         "y": [
          -0.3321755528450012
         ],
         "z": [
          -0.056913480162620544
         ]
        },
        {
         "hovertemplate": "color=to<br>0=%{x}<br>1=%{y}<br>2=%{z}<extra></extra>",
         "legendgroup": "to",
         "marker": {
          "color": "#00cc96",
          "symbol": "circle"
         },
         "mode": "markers",
         "name": "to",
         "scene": "scene",
         "showlegend": true,
         "type": "scatter3d",
         "x": [
          0.2983716130256653
         ],
         "y": [
          -0.562853217124939
         ],
         "z": [
          -0.22535055875778198
         ]
        },
        {
         "hovertemplate": "color=of<br>0=%{x}<br>1=%{y}<br>2=%{z}<extra></extra>",
         "legendgroup": "of",
         "marker": {
          "color": "#ab63fa",
          "symbol": "circle"
         },
         "mode": "markers",
         "name": "of",
         "scene": "scene",
         "showlegend": true,
         "type": "scatter3d",
         "x": [
          -0.02564285695552826
         ],
         "y": [
          -0.35238128900527954
         ],
         "z": [
          0.08569622039794922
         ]
        },
        {
         "hovertemplate": "color=he<br>0=%{x}<br>1=%{y}<br>2=%{z}<extra></extra>",
         "legendgroup": "he",
         "marker": {
          "color": "#FFA15A",
          "symbol": "circle"
         },
         "mode": "markers",
         "name": "he",
         "scene": "scene",
         "showlegend": true,
         "type": "scatter3d",
         "x": [
          0.11249829828739166
         ],
         "y": [
          -0.5594691038131714
         ],
         "z": [
          -0.28072166442871094
         ]
        },
        {
         "hovertemplate": "color=his<br>0=%{x}<br>1=%{y}<br>2=%{z}<extra></extra>",
         "legendgroup": "his",
         "marker": {
          "color": "#19d3f3",
          "symbol": "circle"
         },
         "mode": "markers",
         "name": "his",
         "scene": "scene",
         "showlegend": true,
         "type": "scatter3d",
         "x": [
          -0.04276774823665619
         ],
         "y": [
          -0.29658111929893494
         ],
         "z": [
          -0.3459472060203552
         ]
        },
        {
         "hovertemplate": "color=was<br>0=%{x}<br>1=%{y}<br>2=%{z}<extra></extra>",
         "legendgroup": "was",
         "marker": {
          "color": "#FF6692",
          "symbol": "circle"
         },
         "mode": "markers",
         "name": "was",
         "scene": "scene",
         "showlegend": true,
         "type": "scatter3d",
         "x": [
          0.10146808624267578
         ],
         "y": [
          -0.38878780603408813
         ],
         "z": [
          -0.3094522953033447
         ]
        },
        {
         "hovertemplate": "color=you<br>0=%{x}<br>1=%{y}<br>2=%{z}<extra></extra>",
         "legendgroup": "you",
         "marker": {
          "color": "#B6E880",
          "symbol": "circle"
         },
         "mode": "markers",
         "name": "you",
         "scene": "scene",
         "showlegend": true,
         "type": "scatter3d",
         "x": [
          0.53458172082901
         ],
         "y": [
          -0.6262272000312805
         ],
         "z": [
          -0.17436811327934265
         ]
        },
        {
         "hovertemplate": "color=her<br>0=%{x}<br>1=%{y}<br>2=%{z}<extra></extra>",
         "legendgroup": "her",
         "marker": {
          "color": "#FF97FF",
          "symbol": "circle"
         },
         "mode": "markers",
         "name": "her",
         "scene": "scene",
         "showlegend": true,
         "type": "scatter3d",
         "x": [
          -0.005511030554771423
         ],
         "y": [
          -0.3798815608024597
         ],
         "z": [
          -0.3481363356113434
         ]
        },
        {
         "hovertemplate": "color=in<br>0=%{x}<br>1=%{y}<br>2=%{z}<extra></extra>",
         "legendgroup": "in",
         "marker": {
          "color": "#FECB52",
          "symbol": "circle"
         },
         "mode": "markers",
         "name": "in",
         "scene": "scene",
         "showlegend": true,
         "type": "scatter3d",
         "x": [
          -0.09282706677913666
         ],
         "y": [
          -0.45041623711586
         ],
         "z": [
          -0.0832415372133255
         ]
        },
        {
         "hovertemplate": "color=it<br>0=%{x}<br>1=%{y}<br>2=%{z}<extra></extra>",
         "legendgroup": "it",
         "marker": {
          "color": "#636efa",
          "symbol": "circle"
         },
         "mode": "markers",
         "name": "it",
         "scene": "scene",
         "showlegend": true,
         "type": "scatter3d",
         "x": [
          0.07804474234580994
         ],
         "y": [
          -0.6401917934417725
         ],
         "z": [
          -0.26213207840919495
         ]
        },
        {
         "hovertemplate": "color=had<br>0=%{x}<br>1=%{y}<br>2=%{z}<extra></extra>",
         "legendgroup": "had",
         "marker": {
          "color": "#EF553B",
          "symbol": "circle"
         },
         "mode": "markers",
         "name": "had",
         "scene": "scene",
         "showlegend": true,
         "type": "scatter3d",
         "x": [
          0.1441151201725006
         ],
         "y": [
          -0.49393144249916077
         ],
         "z": [
          -0.17926278710365295
         ]
        },
        {
         "hovertemplate": "color=that<br>0=%{x}<br>1=%{y}<br>2=%{z}<extra></extra>",
         "legendgroup": "that",
         "marker": {
          "color": "#00cc96",
          "symbol": "circle"
         },
         "mode": "markers",
         "name": "that",
         "scene": "scene",
         "showlegend": true,
         "type": "scatter3d",
         "x": [
          0.30687129497528076
         ],
         "y": [
          -0.6131489872932434
         ],
         "z": [
          -0.1029186099767685
         ]
        },
        {
         "hovertemplate": "color=she<br>0=%{x}<br>1=%{y}<br>2=%{z}<extra></extra>",
         "legendgroup": "she",
         "marker": {
          "color": "#ab63fa",
          "symbol": "circle"
         },
         "mode": "markers",
         "name": "she",
         "scene": "scene",
         "showlegend": true,
         "type": "scatter3d",
         "x": [
          0.0769386813044548
         ],
         "y": [
          -0.5115945339202881
         ],
         "z": [
          -0.2960412800312042
         ]
        },
        {
         "hovertemplate": "color=as<br>0=%{x}<br>1=%{y}<br>2=%{z}<extra></extra>",
         "legendgroup": "as",
         "marker": {
          "color": "#FFA15A",
          "symbol": "circle"
         },
         "mode": "markers",
         "name": "as",
         "scene": "scene",
         "showlegend": true,
         "type": "scatter3d",
         "x": [
          0.03233646601438522
         ],
         "y": [
          -0.4724257290363312
         ],
         "z": [
          -0.25657689571380615
         ]
        },
        {
         "hovertemplate": "color=with<br>0=%{x}<br>1=%{y}<br>2=%{z}<extra></extra>",
         "legendgroup": "with",
         "marker": {
          "color": "#19d3f3",
          "symbol": "circle"
         },
         "mode": "markers",
         "name": "with",
         "scene": "scene",
         "showlegend": true,
         "type": "scatter3d",
         "x": [
          -0.13063253462314606
         ],
         "y": [
          -0.26454171538352966
         ],
         "z": [
          -0.21019893884658813
         ]
        },
        {
         "hovertemplate": "color=him<br>0=%{x}<br>1=%{y}<br>2=%{z}<extra></extra>",
         "legendgroup": "him",
         "marker": {
          "color": "#FF6692",
          "symbol": "circle"
         },
         "mode": "markers",
         "name": "him",
         "scene": "scene",
         "showlegend": true,
         "type": "scatter3d",
         "x": [
          0.11156101524829865
         ],
         "y": [
          -0.5378499031066895
         ],
         "z": [
          -0.3120601177215576
         ]
        },
        {
         "hovertemplate": "color=not<br>0=%{x}<br>1=%{y}<br>2=%{z}<extra></extra>",
         "legendgroup": "not",
         "marker": {
          "color": "#B6E880",
          "symbol": "circle"
         },
         "mode": "markers",
         "name": "not",
         "scene": "scene",
         "showlegend": true,
         "type": "scatter3d",
         "x": [
          0.4479483366012573
         ],
         "y": [
          -0.5911603569984436
         ],
         "z": [
          -0.20669519901275635
         ]
        },
        {
         "hovertemplate": "color=but<br>0=%{x}<br>1=%{y}<br>2=%{z}<extra></extra>",
         "legendgroup": "but",
         "marker": {
          "color": "#FF97FF",
          "symbol": "circle"
         },
         "mode": "markers",
         "name": "but",
         "scene": "scene",
         "showlegend": true,
         "type": "scatter3d",
         "x": [
          0.23916739225387573
         ],
         "y": [
          -0.5901065468788147
         ],
         "z": [
          -0.21026596426963806
         ]
        },
        {
         "hovertemplate": "color=for<br>0=%{x}<br>1=%{y}<br>2=%{z}<extra></extra>",
         "legendgroup": "for",
         "marker": {
          "color": "#FECB52",
          "symbol": "circle"
         },
         "mode": "markers",
         "name": "for",
         "scene": "scene",
         "showlegend": true,
         "type": "scatter3d",
         "x": [
          0.43490177392959595
         ],
         "y": [
          -0.47977912425994873
         ],
         "z": [
          -0.2025885283946991
         ]
        },
        {
         "hovertemplate": "color=they<br>0=%{x}<br>1=%{y}<br>2=%{z}<extra></extra>",
         "legendgroup": "they",
         "marker": {
          "color": "#636efa",
          "symbol": "circle"
         },
         "mode": "markers",
         "name": "they",
         "scene": "scene",
         "showlegend": true,
         "type": "scatter3d",
         "x": [
          0.017624951899051666
         ],
         "y": [
          -0.7141318321228027
         ],
         "z": [
          0.07358455657958984
         ]
        },
        {
         "hovertemplate": "color=is<br>0=%{x}<br>1=%{y}<br>2=%{z}<extra></extra>",
         "legendgroup": "is",
         "marker": {
          "color": "#EF553B",
          "symbol": "circle"
         },
         "mode": "markers",
         "name": "is",
         "scene": "scene",
         "showlegend": true,
         "type": "scatter3d",
         "x": [
          0.574785590171814
         ],
         "y": [
          -0.48301196098327637
         ],
         "z": [
          -0.17690877616405487
         ]
        },
        {
         "hovertemplate": "color=at<br>0=%{x}<br>1=%{y}<br>2=%{z}<extra></extra>",
         "legendgroup": "at",
         "marker": {
          "color": "#00cc96",
          "symbol": "circle"
         },
         "mode": "markers",
         "name": "at",
         "scene": "scene",
         "showlegend": true,
         "type": "scatter3d",
         "x": [
          0.04622630029916763
         ],
         "y": [
          -0.3777084946632385
         ],
         "z": [
          -0.3368169069290161
         ]
        },
        {
         "hovertemplate": "color=on<br>0=%{x}<br>1=%{y}<br>2=%{z}<extra></extra>",
         "legendgroup": "on",
         "marker": {
          "color": "#ab63fa",
          "symbol": "circle"
         },
         "mode": "markers",
         "name": "on",
         "scene": "scene",
         "showlegend": true,
         "type": "scatter3d",
         "x": [
          -0.19036583602428436
         ],
         "y": [
          -0.44709286093711853
         ],
         "z": [
          -0.23967713117599487
         ]
        },
        {
         "hovertemplate": "color=said<br>0=%{x}<br>1=%{y}<br>2=%{z}<extra></extra>",
         "legendgroup": "said",
         "marker": {
          "color": "#FFA15A",
          "symbol": "circle"
         },
         "mode": "markers",
         "name": "said",
         "scene": "scene",
         "showlegend": true,
         "type": "scatter3d",
         "x": [
          0.5463852286338806
         ],
         "y": [
          -0.4539811611175537
         ],
         "z": [
          -0.4964631497859955
         ]
        },
        {
         "hovertemplate": "color=my<br>0=%{x}<br>1=%{y}<br>2=%{z}<extra></extra>",
         "legendgroup": "my",
         "marker": {
          "color": "#19d3f3",
          "symbol": "circle"
         },
         "mode": "markers",
         "name": "my",
         "scene": "scene",
         "showlegend": true,
         "type": "scatter3d",
         "x": [
          0.48091834783554077
         ],
         "y": [
          -0.5000017285346985
         ],
         "z": [
          -0.19835138320922852
         ]
        },
        {
         "hovertemplate": "color=have<br>0=%{x}<br>1=%{y}<br>2=%{z}<extra></extra>",
         "legendgroup": "have",
         "marker": {
          "color": "#FF6692",
          "symbol": "circle"
         },
         "mode": "markers",
         "name": "have",
         "scene": "scene",
         "showlegend": true,
         "type": "scatter3d",
         "x": [
          0.4017089605331421
         ],
         "y": [
          -0.6111719012260437
         ],
         "z": [
          -0.15860185027122498
         ]
        },
        {
         "hovertemplate": "color=be<br>0=%{x}<br>1=%{y}<br>2=%{z}<extra></extra>",
         "legendgroup": "be",
         "marker": {
          "color": "#B6E880",
          "symbol": "circle"
         },
         "mode": "markers",
         "name": "be",
         "scene": "scene",
         "showlegend": true,
         "type": "scatter3d",
         "x": [
          0.39148056507110596
         ],
         "y": [
          -0.6385756134986877
         ],
         "z": [
          -0.16110220551490784
         ]
        },
        {
         "hovertemplate": "color=lord<br>0=%{x}<br>1=%{y}<br>2=%{z}<extra></extra>",
         "legendgroup": "lord",
         "marker": {
          "color": "#FF97FF",
          "symbol": "circle"
         },
         "mode": "markers",
         "name": "lord",
         "scene": "scene",
         "showlegend": true,
         "type": "scatter3d",
         "x": [
          0.48958271741867065
         ],
         "y": [
          -0.41454213857650757
         ],
         "z": [
          -0.12842927873134613
         ]
        },
        {
         "hovertemplate": "color=them<br>0=%{x}<br>1=%{y}<br>2=%{z}<extra></extra>",
         "legendgroup": "them",
         "marker": {
          "color": "#FECB52",
          "symbol": "circle"
         },
         "mode": "markers",
         "name": "them",
         "scene": "scene",
         "showlegend": true,
         "type": "scatter3d",
         "x": [
          0.004872456192970276
         ],
         "y": [
          -0.7089590430259705
         ],
         "z": [
          0.00688585638999939
         ]
        },
        {
         "hovertemplate": "color=no<br>0=%{x}<br>1=%{y}<br>2=%{z}<extra></extra>",
         "legendgroup": "no",
         "marker": {
          "color": "#636efa",
          "symbol": "circle"
         },
         "mode": "markers",
         "name": "no",
         "scene": "scene",
         "showlegend": true,
         "type": "scatter3d",
         "x": [
          0.39374762773513794
         ],
         "y": [
          -0.5540403127670288
         ],
         "z": [
          -0.10210530459880829
         ]
        },
        {
         "hovertemplate": "color=from<br>0=%{x}<br>1=%{y}<br>2=%{z}<extra></extra>",
         "legendgroup": "from",
         "marker": {
          "color": "#EF553B",
          "symbol": "circle"
         },
         "mode": "markers",
         "name": "from",
         "scene": "scene",
         "showlegend": true,
         "type": "scatter3d",
         "x": [
          -0.18682782351970673
         ],
         "y": [
          -0.43045666813850403
         ],
         "z": [
          -0.17654119431972504
         ]
        },
        {
         "hovertemplate": "color=would<br>0=%{x}<br>1=%{y}<br>2=%{z}<extra></extra>",
         "legendgroup": "would",
         "marker": {
          "color": "#00cc96",
          "symbol": "circle"
         },
         "mode": "markers",
         "name": "would",
         "scene": "scene",
         "showlegend": true,
         "type": "scatter3d",
         "x": [
          0.4104677438735962
         ],
         "y": [
          -0.5357885360717773
         ],
         "z": [
          -0.2482890486717224
         ]
        },
        {
         "hovertemplate": "color=were<br>0=%{x}<br>1=%{y}<br>2=%{z}<extra></extra>",
         "legendgroup": "were",
         "marker": {
          "color": "#ab63fa",
          "symbol": "circle"
         },
         "mode": "markers",
         "name": "were",
         "scene": "scene",
         "showlegend": true,
         "type": "scatter3d",
         "x": [
          -0.03456714749336243
         ],
         "y": [
          -0.4955442547798157
         ],
         "z": [
          -0.05399176478385925
         ]
        },
        {
         "hovertemplate": "color=me<br>0=%{x}<br>1=%{y}<br>2=%{z}<extra></extra>",
         "legendgroup": "me",
         "marker": {
          "color": "#FFA15A",
          "symbol": "circle"
         },
         "mode": "markers",
         "name": "me",
         "scene": "scene",
         "showlegend": true,
         "type": "scatter3d",
         "x": [
          0.4950328469276428
         ],
         "y": [
          -0.6052785515785217
         ],
         "z": [
          -0.20391152799129486
         ]
        },
        {
         "hovertemplate": "color=your<br>0=%{x}<br>1=%{y}<br>2=%{z}<extra></extra>",
         "legendgroup": "your",
         "marker": {
          "color": "#19d3f3",
          "symbol": "circle"
         },
         "mode": "markers",
         "name": "your",
         "scene": "scene",
         "showlegend": true,
         "type": "scatter3d",
         "x": [
          0.4442199468612671
         ],
         "y": [
          -0.4896831810474396
         ],
         "z": [
          -0.19724586606025696
         ]
        },
        {
         "hovertemplate": "color=one<br>0=%{x}<br>1=%{y}<br>2=%{z}<extra></extra>",
         "legendgroup": "one",
         "marker": {
          "color": "#FF6692",
          "symbol": "circle"
         },
         "mode": "markers",
         "name": "one",
         "scene": "scene",
         "showlegend": true,
         "type": "scatter3d",
         "x": [
          0.047082945704460144
         ],
         "y": [
          -0.6067607998847961
         ],
         "z": [
          -0.1544254720211029
         ]
        },
        {
         "hovertemplate": "color=all<br>0=%{x}<br>1=%{y}<br>2=%{z}<extra></extra>",
         "legendgroup": "all",
         "marker": {
          "color": "#B6E880",
          "symbol": "circle"
         },
         "mode": "markers",
         "name": "all",
         "scene": "scene",
         "showlegend": true,
         "type": "scatter3d",
         "x": [
          0.2056306153535843
         ],
         "y": [
          -0.7250136733055115
         ],
         "z": [
          -0.010824114084243774
         ]
        },
        {
         "hovertemplate": "color=when<br>0=%{x}<br>1=%{y}<br>2=%{z}<extra></extra>",
         "legendgroup": "when",
         "marker": {
          "color": "#FF97FF",
          "symbol": "circle"
         },
         "mode": "markers",
         "name": "when",
         "scene": "scene",
         "showlegend": true,
         "type": "scatter3d",
         "x": [
          0.12596885859966278
         ],
         "y": [
          -0.5629100799560547
         ],
         "z": [
          -0.3086836338043213
         ]
        },
        {
         "hovertemplate": "color=will<br>0=%{x}<br>1=%{y}<br>2=%{z}<extra></extra>",
         "legendgroup": "will",
         "marker": {
          "color": "#FECB52",
          "symbol": "circle"
         },
         "mode": "markers",
         "name": "will",
         "scene": "scene",
         "showlegend": true,
         "type": "scatter3d",
         "x": [
          0.4927223324775696
         ],
         "y": [
          -0.5362865328788757
         ],
         "z": [
          -0.2124427706003189
         ]
        },
        {
         "hovertemplate": "color=ser<br>0=%{x}<br>1=%{y}<br>2=%{z}<extra></extra>",
         "legendgroup": "ser",
         "marker": {
          "color": "#636efa",
          "symbol": "circle"
         },
         "mode": "markers",
         "name": "ser",
         "scene": "scene",
         "showlegend": true,
         "type": "scatter3d",
         "x": [
          0.3936888575553894
         ],
         "y": [
          -0.2756344676017761
         ],
         "z": [
          -0.18113622069358826
         ]
        },
        {
         "hovertemplate": "color=if<br>0=%{x}<br>1=%{y}<br>2=%{z}<extra></extra>",
         "legendgroup": "if",
         "marker": {
          "color": "#EF553B",
          "symbol": "circle"
         },
         "mode": "markers",
         "name": "if",
         "scene": "scene",
         "showlegend": true,
         "type": "scatter3d",
         "x": [
          0.3919791579246521
         ],
         "y": [
          -0.6383156776428223
         ],
         "z": [
          -0.2846728265285492
         ]
        },
        {
         "hovertemplate": "color=so<br>0=%{x}<br>1=%{y}<br>2=%{z}<extra></extra>",
         "legendgroup": "so",
         "marker": {
          "color": "#00cc96",
          "symbol": "circle"
         },
         "mode": "markers",
         "name": "so",
         "scene": "scene",
         "showlegend": true,
         "type": "scatter3d",
         "x": [
          0.17674362659454346
         ],
         "y": [
          -0.5619571208953857
         ],
         "z": [
          -0.27057722210884094
         ]
        },
        {
         "hovertemplate": "color=their<br>0=%{x}<br>1=%{y}<br>2=%{z}<extra></extra>",
         "legendgroup": "their",
         "marker": {
          "color": "#ab63fa",
          "symbol": "circle"
         },
         "mode": "markers",
         "name": "their",
         "scene": "scene",
         "showlegend": true,
         "type": "scatter3d",
         "x": [
          -0.07842309772968292
         ],
         "y": [
          -0.5355246067047119
         ],
         "z": [
          0.1603124737739563
         ]
        },
        {
         "hovertemplate": "color=we<br>0=%{x}<br>1=%{y}<br>2=%{z}<extra></extra>",
         "legendgroup": "we",
         "marker": {
          "color": "#FFA15A",
          "symbol": "circle"
         },
         "mode": "markers",
         "name": "we",
         "scene": "scene",
         "showlegend": true,
         "type": "scatter3d",
         "x": [
          0.37127166986465454
         ],
         "y": [
          -0.732509434223175
         ],
         "z": [
          0.01777482032775879
         ]
        },
        {
         "hovertemplate": "color=could<br>0=%{x}<br>1=%{y}<br>2=%{z}<extra></extra>",
         "legendgroup": "could",
         "marker": {
          "color": "#19d3f3",
          "symbol": "circle"
         },
         "mode": "markers",
         "name": "could",
         "scene": "scene",
         "showlegend": true,
         "type": "scatter3d",
         "x": [
          0.09896618872880936
         ],
         "y": [
          -0.4896567463874817
         ],
         "z": [
          -0.2748100757598877
         ]
        },
        {
         "hovertemplate": "color=are<br>0=%{x}<br>1=%{y}<br>2=%{z}<extra></extra>",
         "legendgroup": "are",
         "marker": {
          "color": "#FF6692",
          "symbol": "circle"
         },
         "mode": "markers",
         "name": "are",
         "scene": "scene",
         "showlegend": true,
         "type": "scatter3d",
         "x": [
          0.41116416454315186
         ],
         "y": [
          -0.532615065574646
         ],
         "z": [
          -0.015249088406562805
         ]
        },
        {
         "hovertemplate": "color=man<br>0=%{x}<br>1=%{y}<br>2=%{z}<extra></extra>",
         "legendgroup": "man",
         "marker": {
          "color": "#B6E880",
          "symbol": "circle"
         },
         "mode": "markers",
         "name": "man",
         "scene": "scene",
         "showlegend": true,
         "type": "scatter3d",
         "x": [
          0.1089097186923027
         ],
         "y": [
          -0.5168781280517578
         ],
         "z": [
          -0.1598387360572815
         ]
        },
        {
         "hovertemplate": "color=there<br>0=%{x}<br>1=%{y}<br>2=%{z}<extra></extra>",
         "legendgroup": "there",
         "marker": {
          "color": "#FF97FF",
          "symbol": "circle"
         },
         "mode": "markers",
         "name": "there",
         "scene": "scene",
         "showlegend": true,
         "type": "scatter3d",
         "x": [
          0.08192265778779984
         ],
         "y": [
          -0.6125780940055847
         ],
         "z": [
          -0.020273655652999878
         ]
        },
        {
         "hovertemplate": "color=this<br>0=%{x}<br>1=%{y}<br>2=%{z}<extra></extra>",
         "legendgroup": "this",
         "marker": {
          "color": "#FECB52",
          "symbol": "circle"
         },
         "mode": "markers",
         "name": "this",
         "scene": "scene",
         "showlegend": true,
         "type": "scatter3d",
         "x": [
          0.443115770816803
         ],
         "y": [
          -0.6231794357299805
         ],
         "z": [
          -0.10948431491851807
         ]
        },
        {
         "hovertemplate": "color=up<br>0=%{x}<br>1=%{y}<br>2=%{z}<extra></extra>",
         "legendgroup": "up",
         "marker": {
          "color": "#636efa",
          "symbol": "circle"
         },
         "mode": "markers",
         "name": "up",
         "scene": "scene",
         "showlegend": true,
         "type": "scatter3d",
         "x": [
          -0.4015895128250122
         ],
         "y": [
          -0.5473896265029907
         ],
         "z": [
          -0.3271399736404419
         ]
        },
        {
         "hovertemplate": "color=been<br>0=%{x}<br>1=%{y}<br>2=%{z}<extra></extra>",
         "legendgroup": "been",
         "marker": {
          "color": "#EF553B",
          "symbol": "circle"
         },
         "mode": "markers",
         "name": "been",
         "scene": "scene",
         "showlegend": true,
         "type": "scatter3d",
         "x": [
          0.18546947836875916
         ],
         "y": [
          -0.5107836723327637
         ],
         "z": [
          -0.15947088599205017
         ]
        },
        {
         "hovertemplate": "color=what<br>0=%{x}<br>1=%{y}<br>2=%{z}<extra></extra>",
         "legendgroup": "what",
         "marker": {
          "color": "#00cc96",
          "symbol": "circle"
         },
         "mode": "markers",
         "name": "what",
         "scene": "scene",
         "showlegend": true,
         "type": "scatter3d",
         "x": [
          0.39523541927337646
         ],
         "y": [
          -0.6266000866889954
         ],
         "z": [
          -0.11384207010269165
         ]
        },
        {
         "hovertemplate": "color=did<br>0=%{x}<br>1=%{y}<br>2=%{z}<extra></extra>",
         "legendgroup": "did",
         "marker": {
          "color": "#ab63fa",
          "symbol": "circle"
         },
         "mode": "markers",
         "name": "did",
         "scene": "scene",
         "showlegend": true,
         "type": "scatter3d",
         "x": [
          0.3760656714439392
         ],
         "y": [
          -0.4596531391143799
         ],
         "z": [
          -0.38443294167518616
         ]
        },
        {
         "hovertemplate": "color=by<br>0=%{x}<br>1=%{y}<br>2=%{z}<extra></extra>",
         "legendgroup": "by",
         "marker": {
          "color": "#FFA15A",
          "symbol": "circle"
         },
         "mode": "markers",
         "name": "by",
         "scene": "scene",
         "showlegend": true,
         "type": "scatter3d",
         "x": [
          0.02110334485769272
         ],
         "y": [
          -0.4126184582710266
         ],
         "z": [
          -0.05593705177307129
         ]
        },
        {
         "hovertemplate": "color=king<br>0=%{x}<br>1=%{y}<br>2=%{z}<extra></extra>",
         "legendgroup": "king",
         "marker": {
          "color": "#19d3f3",
          "symbol": "circle"
         },
         "mode": "markers",
         "name": "king",
         "scene": "scene",
         "showlegend": true,
         "type": "scatter3d",
         "x": [
          0.4034287929534912
         ],
         "y": [
          -0.6633758544921875
         ],
         "z": [
          -0.08144427835941315
         ]
        },
        {
         "hovertemplate": "color=do<br>0=%{x}<br>1=%{y}<br>2=%{z}<extra></extra>",
         "legendgroup": "do",
         "marker": {
          "color": "#FF6692",
          "symbol": "circle"
         },
         "mode": "markers",
         "name": "do",
         "scene": "scene",
         "showlegend": true,
         "type": "scatter3d",
         "x": [
          0.5473454594612122
         ],
         "y": [
          -0.5430070757865906
         ],
         "z": [
          -0.28151488304138184
         ]
        },
        {
         "hovertemplate": "color=men<br>0=%{x}<br>1=%{y}<br>2=%{z}<extra></extra>",
         "legendgroup": "men",
         "marker": {
          "color": "#B6E880",
          "symbol": "circle"
         },
         "mode": "markers",
         "name": "men",
         "scene": "scene",
         "showlegend": true,
         "type": "scatter3d",
         "x": [
          0.07850469648838043
         ],
         "y": [
          -0.7564668655395508
         ],
         "z": [
          0.21285253763198853
         ]
        },
        {
         "hovertemplate": "color=back<br>0=%{x}<br>1=%{y}<br>2=%{z}<extra></extra>",
         "legendgroup": "back",
         "marker": {
          "color": "#FF97FF",
          "symbol": "circle"
         },
         "mode": "markers",
         "name": "back",
         "scene": "scene",
         "showlegend": true,
         "type": "scatter3d",
         "x": [
          -0.17997850477695465
         ],
         "y": [
          -0.6035957336425781
         ],
         "z": [
          -0.4671386480331421
         ]
        },
        {
         "hovertemplate": "color=out<br>0=%{x}<br>1=%{y}<br>2=%{z}<extra></extra>",
         "legendgroup": "out",
         "marker": {
          "color": "#FECB52",
          "symbol": "circle"
         },
         "mode": "markers",
         "name": "out",
         "scene": "scene",
         "showlegend": true,
         "type": "scatter3d",
         "x": [
          -0.2599378228187561
         ],
         "y": [
          -0.5683858394622803
         ],
         "z": [
          -0.337226539850235
         ]
        },
        {
         "hovertemplate": "color=more<br>0=%{x}<br>1=%{y}<br>2=%{z}<extra></extra>",
         "legendgroup": "more",
         "marker": {
          "color": "#636efa",
          "symbol": "circle"
         },
         "mode": "markers",
         "name": "more",
         "scene": "scene",
         "showlegend": true,
         "type": "scatter3d",
         "x": [
          0.22455471754074097
         ],
         "y": [
          -0.5924171805381775
         ],
         "z": [
          -0.06693264842033386
         ]
        },
        {
         "hovertemplate": "color=or<br>0=%{x}<br>1=%{y}<br>2=%{z}<extra></extra>",
         "legendgroup": "or",
         "marker": {
          "color": "#EF553B",
          "symbol": "circle"
         },
         "mode": "markers",
         "name": "or",
         "scene": "scene",
         "showlegend": true,
         "type": "scatter3d",
         "x": [
          0.34726840257644653
         ],
         "y": [
          -0.5755282640457153
         ],
         "z": [
          -0.09969227015972137
         ]
        },
        {
         "hovertemplate": "color=who<br>0=%{x}<br>1=%{y}<br>2=%{z}<extra></extra>",
         "legendgroup": "who",
         "marker": {
          "color": "#00cc96",
          "symbol": "circle"
         },
         "mode": "markers",
         "name": "who",
         "scene": "scene",
         "showlegend": true,
         "type": "scatter3d",
         "x": [
          0.4299125075340271
         ],
         "y": [
          -0.6053305864334106
         ],
         "z": [
          0.04632163047790527
         ]
        },
        {
         "hovertemplate": "color=down<br>0=%{x}<br>1=%{y}<br>2=%{z}<extra></extra>",
         "legendgroup": "down",
         "marker": {
          "color": "#ab63fa",
          "symbol": "circle"
         },
         "mode": "markers",
         "name": "down",
         "scene": "scene",
         "showlegend": true,
         "type": "scatter3d",
         "x": [
          -0.4333884119987488
         ],
         "y": [
          -0.5740234851837158
         ],
         "z": [
          -0.3673664331436157
         ]
        },
        {
         "hovertemplate": "color=well<br>0=%{x}<br>1=%{y}<br>2=%{z}<extra></extra>",
         "legendgroup": "well",
         "marker": {
          "color": "#FFA15A",
          "symbol": "circle"
         },
         "mode": "markers",
         "name": "well",
         "scene": "scene",
         "showlegend": true,
         "type": "scatter3d",
         "x": [
          0.3293275237083435
         ],
         "y": [
          -0.5779343247413635
         ],
         "z": [
          -0.08125554025173187
         ]
        },
        {
         "hovertemplate": "color=than<br>0=%{x}<br>1=%{y}<br>2=%{z}<extra></extra>",
         "legendgroup": "than",
         "marker": {
          "color": "#19d3f3",
          "symbol": "circle"
         },
         "mode": "markers",
         "name": "than",
         "scene": "scene",
         "showlegend": true,
         "type": "scatter3d",
         "x": [
          0.19840143620967865
         ],
         "y": [
          -0.44561994075775146
         ],
         "z": [
          -0.16593725979328156
         ]
        },
        {
         "hovertemplate": "color=only<br>0=%{x}<br>1=%{y}<br>2=%{z}<extra></extra>",
         "legendgroup": "only",
         "marker": {
          "color": "#FF6692",
          "symbol": "circle"
         },
         "mode": "markers",
         "name": "only",
         "scene": "scene",
         "showlegend": true,
         "type": "scatter3d",
         "x": [
          0.29047882556915283
         ],
         "y": [
          -0.5963819026947021
         ],
         "z": [
          -0.07100392878055573
         ]
        },
        {
         "hovertemplate": "color=like<br>0=%{x}<br>1=%{y}<br>2=%{z}<extra></extra>",
         "legendgroup": "like",
         "marker": {
          "color": "#B6E880",
          "symbol": "circle"
         },
         "mode": "markers",
         "name": "like",
         "scene": "scene",
         "showlegend": true,
         "type": "scatter3d",
         "x": [
          -0.07582433521747589
         ],
         "y": [
          -0.3760899603366852
         ],
         "z": [
          -0.23206430673599243
         ]
        },
        {
         "hovertemplate": "color=jon<br>0=%{x}<br>1=%{y}<br>2=%{z}<extra></extra>",
         "legendgroup": "jon",
         "marker": {
          "color": "#FF97FF",
          "symbol": "circle"
         },
         "mode": "markers",
         "name": "jon",
         "scene": "scene",
         "showlegend": true,
         "type": "scatter3d",
         "x": [
          0.06471388041973114
         ],
         "y": [
          -0.42458590865135193
         ],
         "z": [
          -0.25812315940856934
         ]
        },
        {
         "hovertemplate": "color=some<br>0=%{x}<br>1=%{y}<br>2=%{z}<extra></extra>",
         "legendgroup": "some",
         "marker": {
          "color": "#FECB52",
          "symbol": "circle"
         },
         "mode": "markers",
         "name": "some",
         "scene": "scene",
         "showlegend": true,
         "type": "scatter3d",
         "x": [
          0.11611124873161316
         ],
         "y": [
          -0.5531368851661682
         ],
         "z": [
          0.1332607865333557
         ]
        },
        {
         "hovertemplate": "color=father<br>0=%{x}<br>1=%{y}<br>2=%{z}<extra></extra>",
         "legendgroup": "father",
         "marker": {
          "color": "#636efa",
          "symbol": "circle"
         },
         "mode": "markers",
         "name": "father",
         "scene": "scene",
         "showlegend": true,
         "type": "scatter3d",
         "x": [
          0.47830599546432495
         ],
         "y": [
          -0.642577052116394
         ],
         "z": [
          -0.20448587834835052
         ]
        },
        {
         "hovertemplate": "color=old<br>0=%{x}<br>1=%{y}<br>2=%{z}<extra></extra>",
         "legendgroup": "old",
         "marker": {
          "color": "#EF553B",
          "symbol": "circle"
         },
         "mode": "markers",
         "name": "old",
         "scene": "scene",
         "showlegend": true,
         "type": "scatter3d",
         "x": [
          0.1338399350643158
         ],
         "y": [
          -0.39554503560066223
         ],
         "z": [
          -0.009418636560440063
         ]
        },
        {
         "hovertemplate": "color=hand<br>0=%{x}<br>1=%{y}<br>2=%{z}<extra></extra>",
         "legendgroup": "hand",
         "marker": {
          "color": "#00cc96",
          "symbol": "circle"
         },
         "mode": "markers",
         "name": "hand",
         "scene": "scene",
         "showlegend": true,
         "type": "scatter3d",
         "x": [
          -0.0493672639131546
         ],
         "y": [
          -0.4972062110900879
         ],
         "z": [
          -0.49270540475845337
         ]
        },
        {
         "hovertemplate": "color=even<br>0=%{x}<br>1=%{y}<br>2=%{z}<extra></extra>",
         "legendgroup": "even",
         "marker": {
          "color": "#ab63fa",
          "symbol": "circle"
         },
         "mode": "markers",
         "name": "even",
         "scene": "scene",
         "showlegend": true,
         "type": "scatter3d",
         "x": [
          0.1770157516002655
         ],
         "y": [
          -0.5549732446670532
         ],
         "z": [
          -0.07372349500656128
         ]
        },
        {
         "hovertemplate": "color=too<br>0=%{x}<br>1=%{y}<br>2=%{z}<extra></extra>",
         "legendgroup": "too",
         "marker": {
          "color": "#FFA15A",
          "symbol": "circle"
         },
         "mode": "markers",
         "name": "too",
         "scene": "scene",
         "showlegend": true,
         "type": "scatter3d",
         "x": [
          0.24355408549308777
         ],
         "y": [
          -0.4793832004070282
         ],
         "z": [
          -0.2185610681772232
         ]
        },
        {
         "hovertemplate": "color=before<br>0=%{x}<br>1=%{y}<br>2=%{z}<extra></extra>",
         "legendgroup": "before",
         "marker": {
          "color": "#19d3f3",
          "symbol": "circle"
         },
         "mode": "markers",
         "name": "before",
         "scene": "scene",
         "showlegend": true,
         "type": "scatter3d",
         "x": [
          0.13690894842147827
         ],
         "y": [
          -0.6341325044631958
         ],
         "z": [
          -0.28783559799194336
         ]
        },
        {
         "hovertemplate": "color=tyrion<br>0=%{x}<br>1=%{y}<br>2=%{z}<extra></extra>",
         "legendgroup": "tyrion",
         "marker": {
          "color": "#FF6692",
          "symbol": "circle"
         },
         "mode": "markers",
         "name": "tyrion",
         "scene": "scene",
         "showlegend": true,
         "type": "scatter3d",
         "x": [
          0.1463751196861267
         ],
         "y": [
          -0.3071705102920532
         ],
         "z": [
          -0.3614043593406677
         ]
        },
        {
         "hovertemplate": "color=never<br>0=%{x}<br>1=%{y}<br>2=%{z}<extra></extra>",
         "legendgroup": "never",
         "marker": {
          "color": "#B6E880",
          "symbol": "circle"
         },
         "mode": "markers",
         "name": "never",
         "scene": "scene",
         "showlegend": true,
         "type": "scatter3d",
         "x": [
          0.46543627977371216
         ],
         "y": [
          -0.5669943690299988
         ],
         "z": [
          -0.23831318318843842
         ]
        },
        {
         "hovertemplate": "color=an<br>0=%{x}<br>1=%{y}<br>2=%{z}<extra></extra>",
         "legendgroup": "an",
         "marker": {
          "color": "#FF97FF",
          "symbol": "circle"
         },
         "mode": "markers",
         "name": "an",
         "scene": "scene",
         "showlegend": true,
         "type": "scatter3d",
         "x": [
          0.03429904580116272
         ],
         "y": [
          -0.33521103858947754
         ],
         "z": [
          -0.10931293666362762
         ]
        },
        {
         "hovertemplate": "color=off<br>0=%{x}<br>1=%{y}<br>2=%{z}<extra></extra>",
         "legendgroup": "off",
         "marker": {
          "color": "#FECB52",
          "symbol": "circle"
         },
         "mode": "markers",
         "name": "off",
         "scene": "scene",
         "showlegend": true,
         "type": "scatter3d",
         "x": [
          -0.3062291741371155
         ],
         "y": [
          -0.4303535223007202
         ],
         "z": [
          -0.4204164743423462
         ]
        },
        {
         "hovertemplate": "color=know<br>0=%{x}<br>1=%{y}<br>2=%{z}<extra></extra>",
         "legendgroup": "know",
         "marker": {
          "color": "#636efa",
          "symbol": "circle"
         },
         "mode": "markers",
         "name": "know",
         "scene": "scene",
         "showlegend": true,
         "type": "scatter3d",
         "x": [
          0.5776801705360413
         ],
         "y": [
          -0.5523311495780945
         ],
         "z": [
          -0.2291395366191864
         ]
        },
        {
         "hovertemplate": "color=see<br>0=%{x}<br>1=%{y}<br>2=%{z}<extra></extra>",
         "legendgroup": "see",
         "marker": {
          "color": "#EF553B",
          "symbol": "circle"
         },
         "mode": "markers",
         "name": "see",
         "scene": "scene",
         "showlegend": true,
         "type": "scatter3d",
         "x": [
          0.17074385285377502
         ],
         "y": [
          -0.6432612538337708
         ],
         "z": [
          -0.3951577842235565
         ]
        },
        {
         "hovertemplate": "color=into<br>0=%{x}<br>1=%{y}<br>2=%{z}<extra></extra>",
         "legendgroup": "into",
         "marker": {
          "color": "#00cc96",
          "symbol": "circle"
         },
         "mode": "markers",
         "name": "into",
         "scene": "scene",
         "showlegend": true,
         "type": "scatter3d",
         "x": [
          -0.39581871032714844
         ],
         "y": [
          -0.3948306441307068
         ],
         "z": [
          -0.4062306582927704
         ]
        },
        {
         "hovertemplate": "color=made<br>0=%{x}<br>1=%{y}<br>2=%{z}<extra></extra>",
         "legendgroup": "made",
         "marker": {
          "color": "#ab63fa",
          "symbol": "circle"
         },
         "mode": "markers",
         "name": "made",
         "scene": "scene",
         "showlegend": true,
         "type": "scatter3d",
         "x": [
          0.04520260542631149
         ],
         "y": [
          -0.3471028506755829
         ],
         "z": [
          -0.40274566411972046
         ]
        },
        {
         "hovertemplate": "color=now<br>0=%{x}<br>1=%{y}<br>2=%{z}<extra></extra>",
         "legendgroup": "now",
         "marker": {
          "color": "#FFA15A",
          "symbol": "circle"
         },
         "mode": "markers",
         "name": "now",
         "scene": "scene",
         "showlegend": true,
         "type": "scatter3d",
         "x": [
          0.3520899713039398
         ],
         "y": [
          -0.6589823365211487
         ],
         "z": [
          -0.18405470252037048
         ]
        },
        {
         "hovertemplate": "color=eyes<br>0=%{x}<br>1=%{y}<br>2=%{z}<extra></extra>",
         "legendgroup": "eyes",
         "marker": {
          "color": "#19d3f3",
          "symbol": "circle"
         },
         "mode": "markers",
         "name": "eyes",
         "scene": "scene",
         "showlegend": true,
         "type": "scatter3d",
         "x": [
          -0.17928378283977509
         ],
         "y": [
          -0.4922833740711212
         ],
         "z": [
          -0.3862975239753723
         ]
        },
        {
         "hovertemplate": "color=black<br>0=%{x}<br>1=%{y}<br>2=%{z}<extra></extra>",
         "legendgroup": "black",
         "marker": {
          "color": "#FF6692",
          "symbol": "circle"
         },
         "mode": "markers",
         "name": "black",
         "scene": "scene",
         "showlegend": true,
         "type": "scatter3d",
         "x": [
          -0.3947749137878418
         ],
         "y": [
          -0.3841578960418701
         ],
         "z": [
          0.024825721979141235
         ]
        },
        {
         "hovertemplate": "color=told<br>0=%{x}<br>1=%{y}<br>2=%{z}<extra></extra>",
         "legendgroup": "told",
         "marker": {
          "color": "#B6E880",
          "symbol": "circle"
         },
         "mode": "markers",
         "name": "told",
         "scene": "scene",
         "showlegend": true,
         "type": "scatter3d",
         "x": [
          0.4844714403152466
         ],
         "y": [
          -0.5164532661437988
         ],
         "z": [
          -0.47920292615890503
         ]
        },
        {
         "hovertemplate": "color=lady<br>0=%{x}<br>1=%{y}<br>2=%{z}<extra></extra>",
         "legendgroup": "lady",
         "marker": {
          "color": "#FF97FF",
          "symbol": "circle"
         },
         "mode": "markers",
         "name": "lady",
         "scene": "scene",
         "showlegend": true,
         "type": "scatter3d",
         "x": [
          0.5465786457061768
         ],
         "y": [
          -0.34065955877304077
         ],
         "z": [
          -0.21077188849449158
         ]
        },
        {
         "hovertemplate": "color=thought<br>0=%{x}<br>1=%{y}<br>2=%{z}<extra></extra>",
         "legendgroup": "thought",
         "marker": {
          "color": "#FECB52",
          "symbol": "circle"
         },
         "mode": "markers",
         "name": "thought",
         "scene": "scene",
         "showlegend": true,
         "type": "scatter3d",
         "x": [
          0.3664703369140625
         ],
         "y": [
          -0.5578919053077698
         ],
         "z": [
          -0.502587616443634
         ]
        },
        {
         "hovertemplate": "color=time<br>0=%{x}<br>1=%{y}<br>2=%{z}<extra></extra>",
         "legendgroup": "time",
         "marker": {
          "color": "#636efa",
          "symbol": "circle"
         },
         "mode": "markers",
         "name": "time",
         "scene": "scene",
         "showlegend": true,
         "type": "scatter3d",
         "x": [
          0.08960308134555817
         ],
         "y": [
          -0.6945778131484985
         ],
         "z": [
          -0.3340495228767395
         ]
        },
        {
         "hovertemplate": "color=then<br>0=%{x}<br>1=%{y}<br>2=%{z}<extra></extra>",
         "legendgroup": "then",
         "marker": {
          "color": "#EF553B",
          "symbol": "circle"
         },
         "mode": "markers",
         "name": "then",
         "scene": "scene",
         "showlegend": true,
         "type": "scatter3d",
         "x": [
          -0.0765051394701004
         ],
         "y": [
          -0.5206292271614075
         ],
         "z": [
          -0.48013433814048767
         ]
        },
        {
         "hovertemplate": "color=how<br>0=%{x}<br>1=%{y}<br>2=%{z}<extra></extra>",
         "legendgroup": "how",
         "marker": {
          "color": "#00cc96",
          "symbol": "circle"
         },
         "mode": "markers",
         "name": "how",
         "scene": "scene",
         "showlegend": true,
         "type": "scatter3d",
         "x": [
          0.387465238571167
         ],
         "y": [
          -0.5415793657302856
         ],
         "z": [
          -0.21930883824825287
         ]
        },
        {
         "hovertemplate": "color=long<br>0=%{x}<br>1=%{y}<br>2=%{z}<extra></extra>",
         "legendgroup": "long",
         "marker": {
          "color": "#ab63fa",
          "symbol": "circle"
         },
         "mode": "markers",
         "name": "long",
         "scene": "scene",
         "showlegend": true,
         "type": "scatter3d",
         "x": [
          -0.15601979196071625
         ],
         "y": [
          -0.5021471977233887
         ],
         "z": [
          -0.11219045519828796
         ]
        },
        {
         "hovertemplate": "color=has<br>0=%{x}<br>1=%{y}<br>2=%{z}<extra></extra>",
         "legendgroup": "has",
         "marker": {
          "color": "#FFA15A",
          "symbol": "circle"
         },
         "mode": "markers",
         "name": "has",
         "scene": "scene",
         "showlegend": true,
         "type": "scatter3d",
         "x": [
          0.5288658738136292
         ],
         "y": [
          -0.4653075337409973
         ],
         "z": [
          -0.10461372137069702
         ]
        },
        {
         "hovertemplate": "color=can<br>0=%{x}<br>1=%{y}<br>2=%{z}<extra></extra>",
         "legendgroup": "can",
         "marker": {
          "color": "#19d3f3",
          "symbol": "circle"
         },
         "mode": "markers",
         "name": "can",
         "scene": "scene",
         "showlegend": true,
         "type": "scatter3d",
         "x": [
          0.40563976764678955
         ],
         "y": [
          -0.48867979645729065
         ],
         "z": [
          -0.19760863482952118
         ]
        },
        {
         "hovertemplate": "color=might<br>0=%{x}<br>1=%{y}<br>2=%{z}<extra></extra>",
         "legendgroup": "might",
         "marker": {
          "color": "#FF6692",
          "symbol": "circle"
         },
         "mode": "markers",
         "name": "might",
         "scene": "scene",
         "showlegend": true,
         "type": "scatter3d",
         "x": [
          0.43412232398986816
         ],
         "y": [
          -0.4526931643486023
         ],
         "z": [
          -0.22246317565441132
         ]
        },
        {
         "hovertemplate": "color=us<br>0=%{x}<br>1=%{y}<br>2=%{z}<extra></extra>",
         "legendgroup": "us",
         "marker": {
          "color": "#B6E880",
          "symbol": "circle"
         },
         "mode": "markers",
         "name": "us",
         "scene": "scene",
         "showlegend": true,
         "type": "scatter3d",
         "x": [
          0.4418548345565796
         ],
         "y": [
          -0.7340229749679565
         ],
         "z": [
          0.07015511393547058
         ]
        },
        {
         "hovertemplate": "color=come<br>0=%{x}<br>1=%{y}<br>2=%{z}<extra></extra>",
         "legendgroup": "come",
         "marker": {
          "color": "#FF97FF",
          "symbol": "circle"
         },
         "mode": "markers",
         "name": "come",
         "scene": "scene",
         "showlegend": true,
         "type": "scatter3d",
         "x": [
          0.3361634612083435
         ],
         "y": [
          -0.7680824995040894
         ],
         "z": [
          -0.24193626642227173
         ]
        },
        {
         "hovertemplate": "color=where<br>0=%{x}<br>1=%{y}<br>2=%{z}<extra></extra>",
         "legendgroup": "where",
         "marker": {
          "color": "#FECB52",
          "symbol": "circle"
         },
         "mode": "markers",
         "name": "where",
         "scene": "scene",
         "showlegend": true,
         "type": "scatter3d",
         "x": [
          -0.1462680846452713
         ],
         "y": [
          -0.638516902923584
         ],
         "z": [
          -0.09233719110488892
         ]
        }
       ],
       "layout": {
        "legend": {
         "title": {
          "text": "color"
         },
         "tracegroupgap": 0
        },
        "margin": {
         "t": 60
        },
        "scene": {
         "domain": {
          "x": [
           0,
           1
          ],
          "y": [
           0,
           1
          ]
         },
         "xaxis": {
          "title": {
           "text": "0"
          }
         },
         "yaxis": {
          "title": {
           "text": "1"
          }
         },
         "zaxis": {
          "title": {
           "text": "2"
          }
         }
        },
        "template": {
         "data": {
          "bar": [
           {
            "error_x": {
             "color": "#2a3f5f"
            },
            "error_y": {
             "color": "#2a3f5f"
            },
            "marker": {
             "line": {
              "color": "#E5ECF6",
              "width": 0.5
             },
             "pattern": {
              "fillmode": "overlay",
              "size": 10,
              "solidity": 0.2
             }
            },
            "type": "bar"
           }
          ],
          "barpolar": [
           {
            "marker": {
             "line": {
              "color": "#E5ECF6",
              "width": 0.5
             },
             "pattern": {
              "fillmode": "overlay",
              "size": 10,
              "solidity": 0.2
             }
            },
            "type": "barpolar"
           }
          ],
          "carpet": [
           {
            "aaxis": {
             "endlinecolor": "#2a3f5f",
             "gridcolor": "white",
             "linecolor": "white",
             "minorgridcolor": "white",
             "startlinecolor": "#2a3f5f"
            },
            "baxis": {
             "endlinecolor": "#2a3f5f",
             "gridcolor": "white",
             "linecolor": "white",
             "minorgridcolor": "white",
             "startlinecolor": "#2a3f5f"
            },
            "type": "carpet"
           }
          ],
          "choropleth": [
           {
            "colorbar": {
             "outlinewidth": 0,
             "ticks": ""
            },
            "type": "choropleth"
           }
          ],
          "contour": [
           {
            "colorbar": {
             "outlinewidth": 0,
             "ticks": ""
            },
            "colorscale": [
             [
              0,
              "#0d0887"
             ],
             [
              0.1111111111111111,
              "#46039f"
             ],
             [
              0.2222222222222222,
              "#7201a8"
             ],
             [
              0.3333333333333333,
              "#9c179e"
             ],
             [
              0.4444444444444444,
              "#bd3786"
             ],
             [
              0.5555555555555556,
              "#d8576b"
             ],
             [
              0.6666666666666666,
              "#ed7953"
             ],
             [
              0.7777777777777778,
              "#fb9f3a"
             ],
             [
              0.8888888888888888,
              "#fdca26"
             ],
             [
              1,
              "#f0f921"
             ]
            ],
            "type": "contour"
           }
          ],
          "contourcarpet": [
           {
            "colorbar": {
             "outlinewidth": 0,
             "ticks": ""
            },
            "type": "contourcarpet"
           }
          ],
          "heatmap": [
           {
            "colorbar": {
             "outlinewidth": 0,
             "ticks": ""
            },
            "colorscale": [
             [
              0,
              "#0d0887"
             ],
             [
              0.1111111111111111,
              "#46039f"
             ],
             [
              0.2222222222222222,
              "#7201a8"
             ],
             [
              0.3333333333333333,
              "#9c179e"
             ],
             [
              0.4444444444444444,
              "#bd3786"
             ],
             [
              0.5555555555555556,
              "#d8576b"
             ],
             [
              0.6666666666666666,
              "#ed7953"
             ],
             [
              0.7777777777777778,
              "#fb9f3a"
             ],
             [
              0.8888888888888888,
              "#fdca26"
             ],
             [
              1,
              "#f0f921"
             ]
            ],
            "type": "heatmap"
           }
          ],
          "heatmapgl": [
           {
            "colorbar": {
             "outlinewidth": 0,
             "ticks": ""
            },
            "colorscale": [
             [
              0,
              "#0d0887"
             ],
             [
              0.1111111111111111,
              "#46039f"
             ],
             [
              0.2222222222222222,
              "#7201a8"
             ],
             [
              0.3333333333333333,
              "#9c179e"
             ],
             [
              0.4444444444444444,
              "#bd3786"
             ],
             [
              0.5555555555555556,
              "#d8576b"
             ],
             [
              0.6666666666666666,
              "#ed7953"
             ],
             [
              0.7777777777777778,
              "#fb9f3a"
             ],
             [
              0.8888888888888888,
              "#fdca26"
             ],
             [
              1,
              "#f0f921"
             ]
            ],
            "type": "heatmapgl"
           }
          ],
          "histogram": [
           {
            "marker": {
             "pattern": {
              "fillmode": "overlay",
              "size": 10,
              "solidity": 0.2
             }
            },
            "type": "histogram"
           }
          ],
          "histogram2d": [
           {
            "colorbar": {
             "outlinewidth": 0,
             "ticks": ""
            },
            "colorscale": [
             [
              0,
              "#0d0887"
             ],
             [
              0.1111111111111111,
              "#46039f"
             ],
             [
              0.2222222222222222,
              "#7201a8"
             ],
             [
              0.3333333333333333,
              "#9c179e"
             ],
             [
              0.4444444444444444,
              "#bd3786"
             ],
             [
              0.5555555555555556,
              "#d8576b"
             ],
             [
              0.6666666666666666,
              "#ed7953"
             ],
             [
              0.7777777777777778,
              "#fb9f3a"
             ],
             [
              0.8888888888888888,
              "#fdca26"
             ],
             [
              1,
              "#f0f921"
             ]
            ],
            "type": "histogram2d"
           }
          ],
          "histogram2dcontour": [
           {
            "colorbar": {
             "outlinewidth": 0,
             "ticks": ""
            },
            "colorscale": [
             [
              0,
              "#0d0887"
             ],
             [
              0.1111111111111111,
              "#46039f"
             ],
             [
              0.2222222222222222,
              "#7201a8"
             ],
             [
              0.3333333333333333,
              "#9c179e"
             ],
             [
              0.4444444444444444,
              "#bd3786"
             ],
             [
              0.5555555555555556,
              "#d8576b"
             ],
             [
              0.6666666666666666,
              "#ed7953"
             ],
             [
              0.7777777777777778,
              "#fb9f3a"
             ],
             [
              0.8888888888888888,
              "#fdca26"
             ],
             [
              1,
              "#f0f921"
             ]
            ],
            "type": "histogram2dcontour"
           }
          ],
          "mesh3d": [
           {
            "colorbar": {
             "outlinewidth": 0,
             "ticks": ""
            },
            "type": "mesh3d"
           }
          ],
          "parcoords": [
           {
            "line": {
             "colorbar": {
              "outlinewidth": 0,
              "ticks": ""
             }
            },
            "type": "parcoords"
           }
          ],
          "pie": [
           {
            "automargin": true,
            "type": "pie"
           }
          ],
          "scatter": [
           {
            "fillpattern": {
             "fillmode": "overlay",
             "size": 10,
             "solidity": 0.2
            },
            "type": "scatter"
           }
          ],
          "scatter3d": [
           {
            "line": {
             "colorbar": {
              "outlinewidth": 0,
              "ticks": ""
             }
            },
            "marker": {
             "colorbar": {
              "outlinewidth": 0,
              "ticks": ""
             }
            },
            "type": "scatter3d"
           }
          ],
          "scattercarpet": [
           {
            "marker": {
             "colorbar": {
              "outlinewidth": 0,
              "ticks": ""
             }
            },
            "type": "scattercarpet"
           }
          ],
          "scattergeo": [
           {
            "marker": {
             "colorbar": {
              "outlinewidth": 0,
              "ticks": ""
             }
            },
            "type": "scattergeo"
           }
          ],
          "scattergl": [
           {
            "marker": {
             "colorbar": {
              "outlinewidth": 0,
              "ticks": ""
             }
            },
            "type": "scattergl"
           }
          ],
          "scattermapbox": [
           {
            "marker": {
             "colorbar": {
              "outlinewidth": 0,
              "ticks": ""
             }
            },
            "type": "scattermapbox"
           }
          ],
          "scatterpolar": [
           {
            "marker": {
             "colorbar": {
              "outlinewidth": 0,
              "ticks": ""
             }
            },
            "type": "scatterpolar"
           }
          ],
          "scatterpolargl": [
           {
            "marker": {
             "colorbar": {
              "outlinewidth": 0,
              "ticks": ""
             }
            },
            "type": "scatterpolargl"
           }
          ],
          "scatterternary": [
           {
            "marker": {
             "colorbar": {
              "outlinewidth": 0,
              "ticks": ""
             }
            },
            "type": "scatterternary"
           }
          ],
          "surface": [
           {
            "colorbar": {
             "outlinewidth": 0,
             "ticks": ""
            },
            "colorscale": [
             [
              0,
              "#0d0887"
             ],
             [
              0.1111111111111111,
              "#46039f"
             ],
             [
              0.2222222222222222,
              "#7201a8"
             ],
             [
              0.3333333333333333,
              "#9c179e"
             ],
             [
              0.4444444444444444,
              "#bd3786"
             ],
             [
              0.5555555555555556,
              "#d8576b"
             ],
             [
              0.6666666666666666,
              "#ed7953"
             ],
             [
              0.7777777777777778,
              "#fb9f3a"
             ],
             [
              0.8888888888888888,
              "#fdca26"
             ],
             [
              1,
              "#f0f921"
             ]
            ],
            "type": "surface"
           }
          ],
          "table": [
           {
            "cells": {
             "fill": {
              "color": "#EBF0F8"
             },
             "line": {
              "color": "white"
             }
            },
            "header": {
             "fill": {
              "color": "#C8D4E3"
             },
             "line": {
              "color": "white"
             }
            },
            "type": "table"
           }
          ]
         },
         "layout": {
          "annotationdefaults": {
           "arrowcolor": "#2a3f5f",
           "arrowhead": 0,
           "arrowwidth": 1
          },
          "autotypenumbers": "strict",
          "coloraxis": {
           "colorbar": {
            "outlinewidth": 0,
            "ticks": ""
           }
          },
          "colorscale": {
           "diverging": [
            [
             0,
             "#8e0152"
            ],
            [
             0.1,
             "#c51b7d"
            ],
            [
             0.2,
             "#de77ae"
            ],
            [
             0.3,
             "#f1b6da"
            ],
            [
             0.4,
             "#fde0ef"
            ],
            [
             0.5,
             "#f7f7f7"
            ],
            [
             0.6,
             "#e6f5d0"
            ],
            [
             0.7,
             "#b8e186"
            ],
            [
             0.8,
             "#7fbc41"
            ],
            [
             0.9,
             "#4d9221"
            ],
            [
             1,
             "#276419"
            ]
           ],
           "sequential": [
            [
             0,
             "#0d0887"
            ],
            [
             0.1111111111111111,
             "#46039f"
            ],
            [
             0.2222222222222222,
             "#7201a8"
            ],
            [
             0.3333333333333333,
             "#9c179e"
            ],
            [
             0.4444444444444444,
             "#bd3786"
            ],
            [
             0.5555555555555556,
             "#d8576b"
            ],
            [
             0.6666666666666666,
             "#ed7953"
            ],
            [
             0.7777777777777778,
             "#fb9f3a"
            ],
            [
             0.8888888888888888,
             "#fdca26"
            ],
            [
             1,
             "#f0f921"
            ]
           ],
           "sequentialminus": [
            [
             0,
             "#0d0887"
            ],
            [
             0.1111111111111111,
             "#46039f"
            ],
            [
             0.2222222222222222,
             "#7201a8"
            ],
            [
             0.3333333333333333,
             "#9c179e"
            ],
            [
             0.4444444444444444,
             "#bd3786"
            ],
            [
             0.5555555555555556,
             "#d8576b"
            ],
            [
             0.6666666666666666,
             "#ed7953"
            ],
            [
             0.7777777777777778,
             "#fb9f3a"
            ],
            [
             0.8888888888888888,
             "#fdca26"
            ],
            [
             1,
             "#f0f921"
            ]
           ]
          },
          "colorway": [
           "#636efa",
           "#EF553B",
           "#00cc96",
           "#ab63fa",
           "#FFA15A",
           "#19d3f3",
           "#FF6692",
           "#B6E880",
           "#FF97FF",
           "#FECB52"
          ],
          "font": {
           "color": "#2a3f5f"
          },
          "geo": {
           "bgcolor": "white",
           "lakecolor": "white",
           "landcolor": "#E5ECF6",
           "showlakes": true,
           "showland": true,
           "subunitcolor": "white"
          },
          "hoverlabel": {
           "align": "left"
          },
          "hovermode": "closest",
          "mapbox": {
           "style": "light"
          },
          "paper_bgcolor": "white",
          "plot_bgcolor": "#E5ECF6",
          "polar": {
           "angularaxis": {
            "gridcolor": "white",
            "linecolor": "white",
            "ticks": ""
           },
           "bgcolor": "#E5ECF6",
           "radialaxis": {
            "gridcolor": "white",
            "linecolor": "white",
            "ticks": ""
           }
          },
          "scene": {
           "xaxis": {
            "backgroundcolor": "#E5ECF6",
            "gridcolor": "white",
            "gridwidth": 2,
            "linecolor": "white",
            "showbackground": true,
            "ticks": "",
            "zerolinecolor": "white"
           },
           "yaxis": {
            "backgroundcolor": "#E5ECF6",
            "gridcolor": "white",
            "gridwidth": 2,
            "linecolor": "white",
            "showbackground": true,
            "ticks": "",
            "zerolinecolor": "white"
           },
           "zaxis": {
            "backgroundcolor": "#E5ECF6",
            "gridcolor": "white",
            "gridwidth": 2,
            "linecolor": "white",
            "showbackground": true,
            "ticks": "",
            "zerolinecolor": "white"
           }
          },
          "shapedefaults": {
           "line": {
            "color": "#2a3f5f"
           }
          },
          "ternary": {
           "aaxis": {
            "gridcolor": "white",
            "linecolor": "white",
            "ticks": ""
           },
           "baxis": {
            "gridcolor": "white",
            "linecolor": "white",
            "ticks": ""
           },
           "bgcolor": "#E5ECF6",
           "caxis": {
            "gridcolor": "white",
            "linecolor": "white",
            "ticks": ""
           }
          },
          "title": {
           "x": 0.05
          },
          "xaxis": {
           "automargin": true,
           "gridcolor": "white",
           "linecolor": "white",
           "ticks": "",
           "title": {
            "standoff": 15
           },
           "zerolinecolor": "white",
           "zerolinewidth": 2
          },
          "yaxis": {
           "automargin": true,
           "gridcolor": "white",
           "linecolor": "white",
           "ticks": "",
           "title": {
            "standoff": 15
           },
           "zerolinecolor": "white",
           "zerolinewidth": 2
          }
         }
        }
       }
      }
     },
     "metadata": {},
     "output_type": "display_data"
    }
   ],
   "source": [
    "fig = px.scatter_3d(X[:100], x= 0,y=1, z=2, color = y[:100])\n",
    "fig.show()"
   ]
  },
  {
   "cell_type": "code",
   "execution_count": null,
   "id": "9028b9cf-621b-4ef5-bd78-363305a1b404",
   "metadata": {},
   "outputs": [],
   "source": []
  }
 ],
 "metadata": {
  "kernelspec": {
   "display_name": "base",
   "language": "python",
   "name": "python3"
  },
  "language_info": {
   "codemirror_mode": {
    "name": "ipython",
    "version": 3
   },
   "file_extension": ".py",
   "mimetype": "text/x-python",
   "name": "python",
   "nbconvert_exporter": "python",
   "pygments_lexer": "ipython3",
   "version": "3.12.7"
  }
 },
 "nbformat": 4,
 "nbformat_minor": 5
}
